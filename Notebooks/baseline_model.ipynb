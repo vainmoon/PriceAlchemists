{
 "cells": [
  {
   "cell_type": "code",
   "execution_count": 118,
   "id": "113f7dea-f600-4f31-bb66-1a3ae590e04f",
   "metadata": {},
   "outputs": [],
   "source": [
    "from transformers import ViTImageProcessor, ViTForImageClassification, ViTModel, ViTConfig\n",
    "import torch\n",
    "from torch.utils.data import Dataset, DataLoader\n",
    "from PIL import Image\n",
    "import os\n",
    "import pandas as pd\n",
    "from tqdm import tqdm, trange\n",
    "from torchvision import models, transforms\n",
    "import torch.nn as nn\n",
    "import numpy as np\n",
    "from sklearn.model_selection import train_test_split"
   ]
  },
  {
   "cell_type": "code",
   "execution_count": 92,
   "id": "67447b31-9a4a-4d1a-b7b1-cb7015e70138",
   "metadata": {},
   "outputs": [],
   "source": [
    "images_path = os.listdir('data/images')"
   ]
  },
  {
   "cell_type": "code",
   "execution_count": 93,
   "id": "84908dff-3b62-43bf-b530-41c5bb95ed9e",
   "metadata": {},
   "outputs": [
    {
     "data": {
      "text/html": [
       "<div>\n",
       "<style scoped>\n",
       "    .dataframe tbody tr th:only-of-type {\n",
       "        vertical-align: middle;\n",
       "    }\n",
       "\n",
       "    .dataframe tbody tr th {\n",
       "        vertical-align: top;\n",
       "    }\n",
       "\n",
       "    .dataframe thead th {\n",
       "        text-align: right;\n",
       "    }\n",
       "</style>\n",
       "<table border=\"1\" class=\"dataframe\">\n",
       "  <thead>\n",
       "    <tr style=\"text-align: right;\">\n",
       "      <th></th>\n",
       "      <th>item_id</th>\n",
       "      <th>external_id</th>\n",
       "      <th>logical_category</th>\n",
       "      <th>category_name</th>\n",
       "      <th>subcategory_name</th>\n",
       "      <th>microcat_name</th>\n",
       "      <th>Param1</th>\n",
       "      <th>Param2</th>\n",
       "      <th>Param3</th>\n",
       "      <th>Param4</th>\n",
       "      <th>price</th>\n",
       "      <th>title</th>\n",
       "      <th>description</th>\n",
       "      <th>image_id</th>\n",
       "    </tr>\n",
       "  </thead>\n",
       "  <tbody>\n",
       "    <tr>\n",
       "      <th>1081</th>\n",
       "      <td>2090090500977</td>\n",
       "      <td>7363938700</td>\n",
       "      <td>Goods.Fashion</td>\n",
       "      <td>Личные вещи</td>\n",
       "      <td>Часы и украшения</td>\n",
       "      <td>Ювелирные изделия</td>\n",
       "      <td>Ювелирные изделия</td>\n",
       "      <td>NaN</td>\n",
       "      <td>NaN</td>\n",
       "      <td>NaN</td>\n",
       "      <td>533325.0</td>\n",
       "      <td>Подвеска Chopard Happy Hearts 79A074-5301</td>\n",
       "      <td>⌚Подвеска Chopard Happy Hearts 79A074-5301⌚\\n\\...</td>\n",
       "      <td>43863699422</td>\n",
       "    </tr>\n",
       "    <tr>\n",
       "      <th>42160</th>\n",
       "      <td>2090012250007</td>\n",
       "      <td>7365355804</td>\n",
       "      <td>Goods.InformationTechnology</td>\n",
       "      <td>Электроника</td>\n",
       "      <td>Товары для компьютера</td>\n",
       "      <td>Видеокарты</td>\n",
       "      <td>Комплектующие</td>\n",
       "      <td>Видеокарты</td>\n",
       "      <td>NaN</td>\n",
       "      <td>NaN</td>\n",
       "      <td>6000.0</td>\n",
       "      <td>Nvidia RTX 2060 super dual palit не рабочая</td>\n",
       "      <td>Приветствую! В один момент решил заменить терм...</td>\n",
       "      <td>43861732648</td>\n",
       "    </tr>\n",
       "    <tr>\n",
       "      <th>11574</th>\n",
       "      <td>2089954000407</td>\n",
       "      <td>7342462323</td>\n",
       "      <td>Goods.GoodsForChildren</td>\n",
       "      <td>Личные вещи</td>\n",
       "      <td>Товары для детей и игрушки</td>\n",
       "      <td>Игрушки для малышей</td>\n",
       "      <td>Игрушки</td>\n",
       "      <td>Игрушки для малышей</td>\n",
       "      <td>NaN</td>\n",
       "      <td>NaN</td>\n",
       "      <td>450.0</td>\n",
       "      <td>Бизидомик</td>\n",
       "      <td>В отличном состоянии, все детали на месте.\\nОт...</td>\n",
       "      <td>43858490262</td>\n",
       "    </tr>\n",
       "    <tr>\n",
       "      <th>21108</th>\n",
       "      <td>2089929000971</td>\n",
       "      <td>7348661534</td>\n",
       "      <td>Goods.InformationTechnology</td>\n",
       "      <td>Электроника</td>\n",
       "      <td>Товары для компьютера</td>\n",
       "      <td>Сетевое оборудование</td>\n",
       "      <td>Сетевое оборудование</td>\n",
       "      <td>NaN</td>\n",
       "      <td>NaN</td>\n",
       "      <td>NaN</td>\n",
       "      <td>500.0</td>\n",
       "      <td>Wifi роутер Asus RT-N11P</td>\n",
       "      <td>а идеальном состоянии</td>\n",
       "      <td>43857496650</td>\n",
       "    </tr>\n",
       "    <tr>\n",
       "      <th>49907</th>\n",
       "      <td>2090085500329</td>\n",
       "      <td>7339766805</td>\n",
       "      <td>Goods.HealthAndBeauty</td>\n",
       "      <td>Личные вещи</td>\n",
       "      <td>Красота и здоровье</td>\n",
       "      <td>Бронзеры и хайлайтеры</td>\n",
       "      <td>Макияж и маникюр</td>\n",
       "      <td>Для лица</td>\n",
       "      <td>Бронзеры и хайлайтеры</td>\n",
       "      <td>NaN</td>\n",
       "      <td>1100.0</td>\n",
       "      <td>Шиммерный бронзер Terracotta</td>\n",
       "      <td>❗️В наличии\\n\\nОригинальный шиммерный бронзер ...</td>\n",
       "      <td>43640707845</td>\n",
       "    </tr>\n",
       "  </tbody>\n",
       "</table>\n",
       "</div>"
      ],
      "text/plain": [
       "             item_id  external_id             logical_category category_name  \\\n",
       "1081   2090090500977   7363938700                Goods.Fashion   Личные вещи   \n",
       "42160  2090012250007   7365355804  Goods.InformationTechnology   Электроника   \n",
       "11574  2089954000407   7342462323       Goods.GoodsForChildren   Личные вещи   \n",
       "21108  2089929000971   7348661534  Goods.InformationTechnology   Электроника   \n",
       "49907  2090085500329   7339766805        Goods.HealthAndBeauty   Личные вещи   \n",
       "\n",
       "                 subcategory_name          microcat_name  \\\n",
       "1081             Часы и украшения      Ювелирные изделия   \n",
       "42160       Товары для компьютера             Видеокарты   \n",
       "11574  Товары для детей и игрушки    Игрушки для малышей   \n",
       "21108       Товары для компьютера   Сетевое оборудование   \n",
       "49907          Красота и здоровье  Бронзеры и хайлайтеры   \n",
       "\n",
       "                     Param1               Param2                 Param3  \\\n",
       "1081      Ювелирные изделия                  NaN                    NaN   \n",
       "42160         Комплектующие           Видеокарты                    NaN   \n",
       "11574               Игрушки  Игрушки для малышей                    NaN   \n",
       "21108  Сетевое оборудование                  NaN                    NaN   \n",
       "49907      Макияж и маникюр             Для лица  Бронзеры и хайлайтеры   \n",
       "\n",
       "       Param4     price                                        title  \\\n",
       "1081      NaN  533325.0    Подвеска Chopard Happy Hearts 79A074-5301   \n",
       "42160     NaN    6000.0  Nvidia RTX 2060 super dual palit не рабочая   \n",
       "11574     NaN     450.0                                    Бизидомик   \n",
       "21108     NaN     500.0                     Wifi роутер Asus RT-N11P   \n",
       "49907     NaN    1100.0                 Шиммерный бронзер Terracotta   \n",
       "\n",
       "                                             description     image_id  \n",
       "1081   ⌚Подвеска Chopard Happy Hearts 79A074-5301⌚\\n\\...  43863699422  \n",
       "42160  Приветствую! В один момент решил заменить терм...  43861732648  \n",
       "11574  В отличном состоянии, все детали на месте.\\nОт...  43858490262  \n",
       "21108                              а идеальном состоянии  43857496650  \n",
       "49907  ❗️В наличии\\n\\nОригинальный шиммерный бронзер ...  43640707845  "
      ]
     },
     "execution_count": 93,
     "metadata": {},
     "output_type": "execute_result"
    }
   ],
   "source": [
    "data = pd.read_csv('data/aaa_advml_final_project.csv')\n",
    "data.sample(5)"
   ]
  },
  {
   "cell_type": "code",
   "execution_count": 94,
   "id": "a7923eaa-c4fa-4652-b89f-627d93b5b17f",
   "metadata": {},
   "outputs": [],
   "source": [
    "data['image_path'] = 'data/images/' + data.image_id.astype(str) + '.jpg'"
   ]
  },
  {
   "cell_type": "code",
   "execution_count": 95,
   "id": "b026d5b0",
   "metadata": {},
   "outputs": [],
   "source": [
    "data = data[data.price >= 500]"
   ]
  },
  {
   "cell_type": "code",
   "execution_count": 96,
   "id": "b2274eb9",
   "metadata": {},
   "outputs": [],
   "source": [
    "data['log_price'] = np.log(data['price'])"
   ]
  },
  {
   "cell_type": "code",
   "execution_count": 131,
   "id": "a4a7b5d6",
   "metadata": {},
   "outputs": [
    {
     "name": "stderr",
     "output_type": "stream",
     "text": [
      "/Library/Frameworks/Python.framework/Versions/3.11/lib/python3.11/site-packages/torchvision/models/_utils.py:208: UserWarning: The parameter 'pretrained' is deprecated since 0.13 and may be removed in the future, please use 'weights' instead.\n",
      "  warnings.warn(\n",
      "/Library/Frameworks/Python.framework/Versions/3.11/lib/python3.11/site-packages/torchvision/models/_utils.py:223: UserWarning: Arguments other than a weight enum or `None` for 'weights' are deprecated since 0.13 and may be removed in the future. The current behavior is equivalent to passing `weights=ResNet18_Weights.IMAGENET1K_V1`. You can also use `weights=ResNet18_Weights.DEFAULT` to get the most up-to-date weights.\n",
      "  warnings.warn(msg)\n"
     ]
    }
   ],
   "source": [
    "class CustomHead(nn.Module):\n",
    "    def __init__(self, in_features):\n",
    "        super().__init__()\n",
    "        self.head = nn.Sequential(\n",
    "            nn.Linear(in_features, 512),\n",
    "            nn.ReLU(),\n",
    "            nn.Dropout(0.3),\n",
    "            nn.Linear(512, 128),\n",
    "            nn.ReLU(),\n",
    "            nn.Linear(128, 1)\n",
    "        )\n",
    "    def forward(self, x):\n",
    "        return self.head(x).squeeze(1)\n",
    "\n",
    "resnet = models.resnet18(pretrained=True).to('mps')\n",
    "resnet.fc = CustomHead(resnet.fc.in_features).to('mps')"
   ]
  },
  {
   "cell_type": "code",
   "execution_count": 132,
   "id": "3b219805-3cbd-45b1-8e6b-505d2dd655d6",
   "metadata": {},
   "outputs": [],
   "source": [
    "processor = ViTImageProcessor.from_pretrained('google/vit-base-patch16-224')\n",
    "# model = ViTForImageClassification.from_pretrained('google/vit-base-patch16-224')"
   ]
  },
  {
   "cell_type": "code",
   "execution_count": 133,
   "id": "797dbf47-b72c-4a4c-b9c5-299ddba2f294",
   "metadata": {},
   "outputs": [],
   "source": [
    "# class ViTForRegression(torch.nn.Module):\n",
    "#     def __init__(self, pretrained_model_name='google/vit-base-patch16-224'):\n",
    "#         super().__init__()\n",
    "#         self.vit = ViTModel.from_pretrained(pretrained_model_name)\n",
    "#         self.regressor = torch.nn.Linear(self.vit.config.hidden_size, 1)\n",
    "        \n",
    "#     def forward(self, pixel_values):\n",
    "#         outputs = self.vit(pixel_values=pixel_values)\n",
    "#         pooled_output = outputs.pooler_output\n",
    "#         price = self.regressor(pooled_output)\n",
    "#         return price.squeeze(-1)"
   ]
  },
  {
   "cell_type": "code",
   "execution_count": 134,
   "id": "cfa19de3",
   "metadata": {},
   "outputs": [],
   "source": [
    "# model = ViTForRegression().to('mps')"
   ]
  },
  {
   "cell_type": "code",
   "execution_count": 135,
   "id": "14209af7",
   "metadata": {},
   "outputs": [],
   "source": [
    "# for name, param in model.vit.named_parameters():\n",
    "#     print(name)\n",
    "#     param.requires_grad = False\n",
    "# #     if \"embeddings\" not in name:  # позиционные/патч-эмбеддинги менее важны\n",
    "# #         param.requires_grad = True"
   ]
  },
  {
   "cell_type": "code",
   "execution_count": 136,
   "id": "1f37673e",
   "metadata": {},
   "outputs": [],
   "source": [
    "# for p in model.parameters():\n",
    "#     print(p.requires_grad)"
   ]
  },
  {
   "cell_type": "code",
   "execution_count": 137,
   "id": "76a02109-92bc-48c1-8822-d6920ee065f1",
   "metadata": {},
   "outputs": [],
   "source": [
    "class PriceDataset(Dataset):\n",
    "    def __init__(self, img_paths, prices, processor):\n",
    "        self.img_paths = img_paths\n",
    "        self.prices = prices\n",
    "        self.processor = processor\n",
    "\n",
    "    def __len__(self):\n",
    "        return len(self.img_paths)\n",
    "\n",
    "    def __getitem__(self, idx):\n",
    "        image = Image.open(self.img_paths[idx]).convert(\"RGB\")\n",
    "        inputs = self.processor(images=image, return_tensors=\"pt\")\n",
    "        price = self.prices[idx]\n",
    "        return {**{k: v.squeeze(0) for k, v in inputs.items()}, \"price\": torch.tensor(price, dtype=torch.float32)}"
   ]
  },
  {
   "cell_type": "code",
   "execution_count": 138,
   "id": "36a9bd70",
   "metadata": {},
   "outputs": [],
   "source": [
    "data_train, data_val, price_train, price_val = train_test_split(\n",
    "    data[data.subcategory_name=='Одежда, обувь, аксессуары'].image_path.values,\n",
    "    data[data.subcategory_name=='Одежда, обувь, аксессуары'].log_price.values, test_size=0.2)"
   ]
  },
  {
   "cell_type": "code",
   "execution_count": 139,
   "id": "df1fccad-5cd5-458b-b5fe-922f54f0090e",
   "metadata": {},
   "outputs": [],
   "source": [
    "dataset_train = PriceDataset(data_train, price_train, processor)\n",
    "dataloader_train = DataLoader(dataset_train, batch_size=8, shuffle=True)\n",
    "\n",
    "dataset_val = PriceDataset(data_val, price_val, processor)\n",
    "dataloader_val = DataLoader(dataset_val, batch_size=8, shuffle=True)"
   ]
  },
  {
   "cell_type": "code",
   "execution_count": 141,
   "id": "33d11214-baf4-43be-8c3d-d912c873bf8b",
   "metadata": {},
   "outputs": [
    {
     "name": "stderr",
     "output_type": "stream",
     "text": [
      "100%|█████████████████████████████████████████████████████████████████████████████████████████████████████████████████| 889/889 [02:17<00:00,  6.45it/s]\n",
      "100%|█████████████████████████████████████████████████████████████████████████████████████████████████████████████████| 223/223 [00:13<00:00, 16.51it/s]\n"
     ]
    },
    {
     "name": "stdout",
     "output_type": "stream",
     "text": [
      "Epoch 1, Loss train: 1.0606\n",
      "MAE val: 3093.5475017735776, MSE val: 166105543.7373879, MAPE val: 0.9071110875884514\n",
      "\n"
     ]
    },
    {
     "name": "stderr",
     "output_type": "stream",
     "text": [
      "100%|█████████████████████████████████████████████████████████████████████████████████████████████████████████████████| 889/889 [02:17<00:00,  6.45it/s]\n",
      "100%|█████████████████████████████████████████████████████████████████████████████████████████████████████████████████| 223/223 [00:13<00:00, 16.50it/s]\n"
     ]
    },
    {
     "name": "stdout",
     "output_type": "stream",
     "text": [
      "Epoch 2, Loss train: 0.8543\n",
      "MAE val: 3796.814748447572, MSE val: 182501537.7247758, MAPE val: 1.4941684049073891\n",
      "\n"
     ]
    },
    {
     "name": "stderr",
     "output_type": "stream",
     "text": [
      "100%|█████████████████████████████████████████████████████████████████████████████████████████████████████████████████| 889/889 [02:19<00:00,  6.37it/s]\n",
      "100%|█████████████████████████████████████████████████████████████████████████████████████████████████████████████████| 223/223 [00:13<00:00, 16.68it/s]\n"
     ]
    },
    {
     "name": "stdout",
     "output_type": "stream",
     "text": [
      "Epoch 3, Loss train: 0.6883\n",
      "MAE val: 3796.439857106572, MSE val: 171452045.78026906, MAPE val: 1.5218895838132354\n",
      "\n"
     ]
    },
    {
     "name": "stderr",
     "output_type": "stream",
     "text": [
      "100%|█████████████████████████████████████████████████████████████████████████████████████████████████████████████████| 889/889 [02:15<00:00,  6.58it/s]\n",
      "100%|█████████████████████████████████████████████████████████████████████████████████████████████████████████████████| 223/223 [00:13<00:00, 16.89it/s]\n"
     ]
    },
    {
     "name": "stdout",
     "output_type": "stream",
     "text": [
      "Epoch 4, Loss train: 0.5649\n",
      "MAE val: 3102.55317941161, MSE val: 163180668.0811379, MAPE val: 0.9225966970482214\n",
      "\n"
     ]
    },
    {
     "name": "stderr",
     "output_type": "stream",
     "text": [
      "100%|█████████████████████████████████████████████████████████████████████████████████████████████████████████████████| 889/889 [02:19<00:00,  6.37it/s]\n",
      "100%|█████████████████████████████████████████████████████████████████████████████████████████████████████████████████| 223/223 [00:13<00:00, 15.96it/s]\n"
     ]
    },
    {
     "name": "stdout",
     "output_type": "stream",
     "text": [
      "Epoch 5, Loss train: 0.4787\n",
      "MAE val: 3155.6177793767956, MSE val: 168791630.72631726, MAPE val: 0.8021539956197611\n",
      "\n"
     ]
    },
    {
     "name": "stderr",
     "output_type": "stream",
     "text": [
      "100%|█████████████████████████████████████████████████████████████████████████████████████████████████████████████████| 889/889 [02:20<00:00,  6.34it/s]\n",
      "100%|█████████████████████████████████████████████████████████████████████████████████████████████████████████████████| 223/223 [00:14<00:00, 15.66it/s]\n"
     ]
    },
    {
     "name": "stdout",
     "output_type": "stream",
     "text": [
      "Epoch 6, Loss train: 0.4376\n",
      "MAE val: 3150.789037593277, MSE val: 168719765.74789798, MAPE val: 0.8308720552600553\n",
      "\n"
     ]
    },
    {
     "name": "stderr",
     "output_type": "stream",
     "text": [
      "100%|█████████████████████████████████████████████████████████████████████████████████████████████████████████████████| 889/889 [02:20<00:00,  6.33it/s]\n",
      "100%|█████████████████████████████████████████████████████████████████████████████████████████████████████████████████| 223/223 [00:14<00:00, 15.40it/s]\n"
     ]
    },
    {
     "name": "stdout",
     "output_type": "stream",
     "text": [
      "Epoch 7, Loss train: 0.4165\n",
      "MAE val: 3150.6161508602945, MSE val: 167390545.42783073, MAPE val: 0.6681653479022296\n",
      "\n"
     ]
    },
    {
     "name": "stderr",
     "output_type": "stream",
     "text": [
      "100%|█████████████████████████████████████████████████████████████████████████████████████████████████████████████████| 889/889 [02:27<00:00,  6.04it/s]\n",
      "100%|█████████████████████████████████████████████████████████████████████████████████████████████████████████████████| 223/223 [00:14<00:00, 15.61it/s]\n"
     ]
    },
    {
     "name": "stdout",
     "output_type": "stream",
     "text": [
      "Epoch 8, Loss train: 0.3605\n",
      "MAE val: 2994.8393343938305, MSE val: 163738086.2799888, MAPE val: 0.8388967012877956\n",
      "\n"
     ]
    },
    {
     "name": "stderr",
     "output_type": "stream",
     "text": [
      "100%|█████████████████████████████████████████████████████████████████████████████████████████████████████████████████| 889/889 [02:26<00:00,  6.05it/s]\n",
      "100%|█████████████████████████████████████████████████████████████████████████████████████████████████████████████████| 223/223 [00:14<00:00, 15.45it/s]\n"
     ]
    },
    {
     "name": "stdout",
     "output_type": "stream",
     "text": [
      "Epoch 9, Loss train: 0.3468\n",
      "MAE val: 3023.1165771484375, MSE val: 168280108.9486407, MAPE val: 0.7251579119351947\n",
      "\n"
     ]
    },
    {
     "name": "stderr",
     "output_type": "stream",
     "text": [
      "100%|█████████████████████████████████████████████████████████████████████████████████████████████████████████████████| 889/889 [02:18<00:00,  6.40it/s]\n",
      "100%|█████████████████████████████████████████████████████████████████████████████████████████████████████████████████| 223/223 [00:13<00:00, 16.50it/s]\n"
     ]
    },
    {
     "name": "stdout",
     "output_type": "stream",
     "text": [
      "Epoch 10, Loss train: 0.3364\n",
      "MAE val: 2968.442215855346, MSE val: 164558873.85699272, MAPE val: 0.7519744266442654\n",
      "\n"
     ]
    },
    {
     "name": "stderr",
     "output_type": "stream",
     "text": [
      "100%|█████████████████████████████████████████████████████████████████████████████████████████████████████████████████| 889/889 [02:23<00:00,  6.18it/s]\n",
      "100%|█████████████████████████████████████████████████████████████████████████████████████████████████████████████████| 223/223 [00:14<00:00, 15.67it/s]\n"
     ]
    },
    {
     "name": "stdout",
     "output_type": "stream",
     "text": [
      "Epoch 11, Loss train: 0.3239\n",
      "MAE val: 3054.294855639539, MSE val: 164845238.27200112, MAPE val: 0.8278329873566136\n",
      "\n"
     ]
    },
    {
     "name": "stderr",
     "output_type": "stream",
     "text": [
      "100%|█████████████████████████████████████████████████████████████████████████████████████████████████████████████████| 889/889 [02:25<00:00,  6.11it/s]\n",
      "100%|█████████████████████████████████████████████████████████████████████████████████████████████████████████████████| 223/223 [00:14<00:00, 15.66it/s]\n"
     ]
    },
    {
     "name": "stdout",
     "output_type": "stream",
     "text": [
      "Epoch 12, Loss train: 0.2850\n",
      "MAE val: 2998.694986112449, MSE val: 165610054.15442824, MAPE val: 0.7805604790358266\n",
      "\n"
     ]
    },
    {
     "name": "stderr",
     "output_type": "stream",
     "text": [
      "100%|█████████████████████████████████████████████████████████████████████████████████████████████████████████████████| 889/889 [02:25<00:00,  6.09it/s]\n",
      "100%|█████████████████████████████████████████████████████████████████████████████████████████████████████████████████| 223/223 [00:14<00:00, 15.67it/s]\n"
     ]
    },
    {
     "name": "stdout",
     "output_type": "stream",
     "text": [
      "Epoch 13, Loss train: 0.2727\n",
      "MAE val: 3026.911847170158, MSE val: 166976909.34949553, MAPE val: 0.6378701380683702\n",
      "\n"
     ]
    },
    {
     "name": "stderr",
     "output_type": "stream",
     "text": [
      "100%|█████████████████████████████████████████████████████████████████████████████████████████████████████████████████| 889/889 [02:39<00:00,  5.57it/s]\n",
      "100%|█████████████████████████████████████████████████████████████████████████████████████████████████████████████████| 223/223 [00:16<00:00, 13.34it/s]\n"
     ]
    },
    {
     "name": "stdout",
     "output_type": "stream",
     "text": [
      "Epoch 14, Loss train: 0.2642\n",
      "MAE val: 3010.579002756709, MSE val: 163848531.71860987, MAPE val: 0.905104644563166\n",
      "\n"
     ]
    },
    {
     "name": "stderr",
     "output_type": "stream",
     "text": [
      "100%|█████████████████████████████████████████████████████████████████████████████████████████████████████████████████| 889/889 [02:32<00:00,  5.82it/s]\n",
      "100%|█████████████████████████████████████████████████████████████████████████████████████████████████████████████████| 223/223 [00:15<00:00, 14.22it/s]\n"
     ]
    },
    {
     "name": "stdout",
     "output_type": "stream",
     "text": [
      "Epoch 15, Loss train: 0.2548\n",
      "MAE val: 3116.0333665240505, MSE val: 163438209.94772983, MAPE val: 1.0274661926410658\n",
      "\n"
     ]
    },
    {
     "name": "stderr",
     "output_type": "stream",
     "text": [
      "100%|█████████████████████████████████████████████████████████████████████████████████████████████████████████████████| 889/889 [02:25<00:00,  6.11it/s]\n",
      "100%|█████████████████████████████████████████████████████████████████████████████████████████████████████████████████| 223/223 [00:14<00:00, 15.79it/s]\n"
     ]
    },
    {
     "name": "stdout",
     "output_type": "stream",
     "text": [
      "Epoch 16, Loss train: 0.2345\n",
      "MAE val: 2941.2430470556424, MSE val: 162828059.04372197, MAPE val: 0.816331233144341\n",
      "\n"
     ]
    },
    {
     "name": "stderr",
     "output_type": "stream",
     "text": [
      "100%|█████████████████████████████████████████████████████████████████████████████████████████████████████████████████| 889/889 [02:25<00:00,  6.11it/s]\n",
      "100%|█████████████████████████████████████████████████████████████████████████████████████████████████████████████████| 223/223 [00:14<00:00, 15.74it/s]\n"
     ]
    },
    {
     "name": "stdout",
     "output_type": "stream",
     "text": [
      "Epoch 17, Loss train: 0.2367\n",
      "MAE val: 3015.351897782809, MSE val: 166171026.95249438, MAPE val: 0.6703861847586696\n",
      "\n"
     ]
    },
    {
     "name": "stderr",
     "output_type": "stream",
     "text": [
      "100%|█████████████████████████████████████████████████████████████████████████████████████████████████████████████████| 889/889 [02:25<00:00,  6.11it/s]\n",
      "100%|█████████████████████████████████████████████████████████████████████████████████████████████████████████████████| 223/223 [00:14<00:00, 15.71it/s]\n"
     ]
    },
    {
     "name": "stdout",
     "output_type": "stream",
     "text": [
      "Epoch 18, Loss train: 0.2344\n",
      "MAE val: 2990.1337648400277, MSE val: 164543963.5868834, MAPE val: 0.7725227706368194\n",
      "\n"
     ]
    },
    {
     "name": "stderr",
     "output_type": "stream",
     "text": [
      "100%|█████████████████████████████████████████████████████████████████████████████████████████████████████████████████| 889/889 [02:25<00:00,  6.10it/s]\n",
      "100%|█████████████████████████████████████████████████████████████████████████████████████████████████████████████████| 223/223 [00:14<00:00, 15.65it/s]\n"
     ]
    },
    {
     "name": "stdout",
     "output_type": "stream",
     "text": [
      "Epoch 19, Loss train: 0.2261\n",
      "MAE val: 2964.155973289045, MSE val: 164580026.11000562, MAPE val: 0.7856147485730894\n",
      "\n"
     ]
    },
    {
     "name": "stderr",
     "output_type": "stream",
     "text": [
      "100%|█████████████████████████████████████████████████████████████████████████████████████████████████████████████████| 889/889 [02:25<00:00,  6.10it/s]\n",
      "100%|█████████████████████████████████████████████████████████████████████████████████████████████████████████████████| 223/223 [00:14<00:00, 15.72it/s]\n"
     ]
    },
    {
     "name": "stdout",
     "output_type": "stream",
     "text": [
      "Epoch 20, Loss train: 0.2163\n",
      "MAE val: 2961.6555898349916, MSE val: 164592636.45025223, MAPE val: 0.720219589803251\n",
      "\n"
     ]
    },
    {
     "name": "stderr",
     "output_type": "stream",
     "text": [
      "100%|█████████████████████████████████████████████████████████████████████████████████████████████████████████████████| 889/889 [02:25<00:00,  6.10it/s]\n",
      "100%|█████████████████████████████████████████████████████████████████████████████████████████████████████████████████| 223/223 [00:14<00:00, 15.66it/s]\n"
     ]
    },
    {
     "name": "stdout",
     "output_type": "stream",
     "text": [
      "Epoch 21, Loss train: 0.2138\n",
      "MAE val: 2977.5061341700534, MSE val: 165597245.4861267, MAPE val: 0.7056299280959929\n",
      "\n"
     ]
    },
    {
     "name": "stderr",
     "output_type": "stream",
     "text": [
      "100%|█████████████████████████████████████████████████████████████████████████████████████████████████████████████████| 889/889 [02:26<00:00,  6.07it/s]\n",
      "100%|█████████████████████████████████████████████████████████████████████████████████████████████████████████████████| 223/223 [00:14<00:00, 15.59it/s]\n"
     ]
    },
    {
     "name": "stdout",
     "output_type": "stream",
     "text": [
      "Epoch 22, Loss train: 0.2057\n",
      "MAE val: 2998.809014700988, MSE val: 163370247.7694787, MAPE val: 0.9131616466248517\n",
      "\n"
     ]
    },
    {
     "name": "stderr",
     "output_type": "stream",
     "text": [
      "100%|█████████████████████████████████████████████████████████████████████████████████████████████████████████████████| 889/889 [02:26<00:00,  6.08it/s]\n",
      "100%|█████████████████████████████████████████████████████████████████████████████████████████████████████████████████| 223/223 [00:14<00:00, 15.64it/s]\n"
     ]
    },
    {
     "name": "stdout",
     "output_type": "stream",
     "text": [
      "Epoch 23, Loss train: 0.2020\n",
      "MAE val: 2933.8691792167356, MSE val: 163687622.3709361, MAPE val: 0.758021779659083\n",
      "\n"
     ]
    },
    {
     "name": "stderr",
     "output_type": "stream",
     "text": [
      "100%|█████████████████████████████████████████████████████████████████████████████████████████████████████████████████| 889/889 [02:26<00:00,  6.07it/s]\n",
      "100%|█████████████████████████████████████████████████████████████████████████████████████████████████████████████████| 223/223 [00:14<00:00, 15.63it/s]\n"
     ]
    },
    {
     "name": "stdout",
     "output_type": "stream",
     "text": [
      "Epoch 24, Loss train: 0.2000\n",
      "MAE val: 3073.186099202109, MSE val: 166977482.35369956, MAPE val: 0.8961544086313034\n",
      "\n"
     ]
    },
    {
     "name": "stderr",
     "output_type": "stream",
     "text": [
      "100%|█████████████████████████████████████████████████████████████████████████████████████████████████████████████████| 889/889 [02:26<00:00,  6.08it/s]\n",
      "100%|█████████████████████████████████████████████████████████████████████████████████████████████████████████████████| 223/223 [00:14<00:00, 15.63it/s]\n"
     ]
    },
    {
     "name": "stdout",
     "output_type": "stream",
     "text": [
      "Epoch 25, Loss train: 0.1960\n",
      "MAE val: 2934.13451587352, MSE val: 164860770.39461884, MAPE val: 0.739151853483354\n",
      "\n"
     ]
    },
    {
     "name": "stderr",
     "output_type": "stream",
     "text": [
      "100%|█████████████████████████████████████████████████████████████████████████████████████████████████████████████████| 889/889 [02:26<00:00,  6.07it/s]\n",
      "100%|█████████████████████████████████████████████████████████████████████████████████████████████████████████████████| 223/223 [00:14<00:00, 15.55it/s]\n"
     ]
    },
    {
     "name": "stdout",
     "output_type": "stream",
     "text": [
      "Epoch 26, Loss train: 0.1922\n",
      "MAE val: 3013.148354295123, MSE val: 164261394.64461884, MAPE val: 0.8983132584613535\n",
      "\n"
     ]
    },
    {
     "name": "stderr",
     "output_type": "stream",
     "text": [
      "100%|█████████████████████████████████████████████████████████████████████████████████████████████████████████████████| 889/889 [02:26<00:00,  6.07it/s]\n",
      "100%|█████████████████████████████████████████████████████████████████████████████████████████████████████████████████| 223/223 [00:14<00:00, 15.56it/s]\n"
     ]
    },
    {
     "name": "stdout",
     "output_type": "stream",
     "text": [
      "Epoch 27, Loss train: 0.1897\n",
      "MAE val: 2975.859446846316, MSE val: 167244565.58029708, MAPE val: 0.7794658096649187\n",
      "\n"
     ]
    },
    {
     "name": "stderr",
     "output_type": "stream",
     "text": [
      "100%|█████████████████████████████████████████████████████████████████████████████████████████████████████████████████| 889/889 [02:26<00:00,  6.07it/s]\n",
      "100%|█████████████████████████████████████████████████████████████████████████████████████████████████████████████████| 223/223 [00:14<00:00, 15.63it/s]\n"
     ]
    },
    {
     "name": "stdout",
     "output_type": "stream",
     "text": [
      "Epoch 28, Loss train: 0.1785\n",
      "MAE val: 2936.8593383241664, MSE val: 164780947.64440864, MAPE val: 0.7669318005643083\n",
      "\n"
     ]
    },
    {
     "name": "stderr",
     "output_type": "stream",
     "text": [
      "100%|█████████████████████████████████████████████████████████████████████████████████████████████████████████████████| 889/889 [02:26<00:00,  6.07it/s]\n",
      "100%|█████████████████████████████████████████████████████████████████████████████████████████████████████████████████| 223/223 [00:14<00:00, 15.56it/s]\n"
     ]
    },
    {
     "name": "stdout",
     "output_type": "stream",
     "text": [
      "Epoch 29, Loss train: 0.1852\n",
      "MAE val: 2954.1977211990697, MSE val: 165658085.98017097, MAPE val: 0.7362250722443576\n",
      "\n"
     ]
    },
    {
     "name": "stderr",
     "output_type": "stream",
     "text": [
      "100%|█████████████████████████████████████████████████████████████████████████████████████████████████████████████████| 889/889 [02:26<00:00,  6.07it/s]\n",
      "100%|█████████████████████████████████████████████████████████████████████████████████████████████████████████████████| 223/223 [00:14<00:00, 15.60it/s]\n"
     ]
    },
    {
     "name": "stdout",
     "output_type": "stream",
     "text": [
      "Epoch 30, Loss train: 0.1783\n",
      "MAE val: 2982.648451595563, MSE val: 166696261.53237107, MAPE val: 0.6776207380765222\n",
      "\n"
     ]
    },
    {
     "name": "stderr",
     "output_type": "stream",
     "text": [
      "100%|█████████████████████████████████████████████████████████████████████████████████████████████████████████████████| 889/889 [02:26<00:00,  6.07it/s]\n",
      "100%|█████████████████████████████████████████████████████████████████████████████████████████████████████████████████| 223/223 [00:14<00:00, 15.56it/s]\n"
     ]
    },
    {
     "name": "stdout",
     "output_type": "stream",
     "text": [
      "Epoch 31, Loss train: 0.1782\n",
      "MAE val: 2979.5476178224844, MSE val: 166169202.6928251, MAPE val: 0.6872472117567276\n",
      "\n"
     ]
    },
    {
     "name": "stderr",
     "output_type": "stream",
     "text": [
      "100%|█████████████████████████████████████████████████████████████████████████████████████████████████████████████████| 889/889 [02:26<00:00,  6.07it/s]\n",
      "100%|█████████████████████████████████████████████████████████████████████████████████████████████████████████████████| 223/223 [00:14<00:00, 15.60it/s]\n"
     ]
    },
    {
     "name": "stdout",
     "output_type": "stream",
     "text": [
      "Epoch 32, Loss train: 0.1696\n",
      "MAE val: 2923.647055176876, MSE val: 164513186.14223656, MAPE val: 0.722962823015692\n",
      "\n"
     ]
    },
    {
     "name": "stderr",
     "output_type": "stream",
     "text": [
      "100%|█████████████████████████████████████████████████████████████████████████████████████████████████████████████████| 889/889 [02:26<00:00,  6.06it/s]\n",
      "100%|█████████████████████████████████████████████████████████████████████████████████████████████████████████████████| 223/223 [00:14<00:00, 15.52it/s]\n"
     ]
    },
    {
     "name": "stdout",
     "output_type": "stream",
     "text": [
      "Epoch 33, Loss train: 0.1656\n",
      "MAE val: 2918.27782108324, MSE val: 164580560.72596693, MAPE val: 0.7431838836504205\n",
      "\n"
     ]
    },
    {
     "name": "stderr",
     "output_type": "stream",
     "text": [
      "100%|█████████████████████████████████████████████████████████████████████████████████████████████████████████████████| 889/889 [02:26<00:00,  6.07it/s]\n",
      "100%|█████████████████████████████████████████████████████████████████████████████████████████████████████████████████| 223/223 [00:14<00:00, 15.56it/s]\n"
     ]
    },
    {
     "name": "stdout",
     "output_type": "stream",
     "text": [
      "Epoch 34, Loss train: 0.1623\n",
      "MAE val: 2963.623322354304, MSE val: 165933186.23857903, MAPE val: 0.6581543622530095\n",
      "\n"
     ]
    },
    {
     "name": "stderr",
     "output_type": "stream",
     "text": [
      "100%|█████████████████████████████████████████████████████████████████████████████████████████████████████████████████| 889/889 [02:26<00:00,  6.06it/s]\n",
      "100%|█████████████████████████████████████████████████████████████████████████████████████████████████████████████████| 223/223 [00:14<00:00, 15.57it/s]\n"
     ]
    },
    {
     "name": "stdout",
     "output_type": "stream",
     "text": [
      "Epoch 35, Loss train: 0.1629\n",
      "MAE val: 2975.9173048900384, MSE val: 166504065.81179932, MAPE val: 0.68451916910875\n",
      "\n"
     ]
    },
    {
     "name": "stderr",
     "output_type": "stream",
     "text": [
      "100%|█████████████████████████████████████████████████████████████████████████████████████████████████████████████████| 889/889 [02:26<00:00,  6.07it/s]\n",
      "100%|█████████████████████████████████████████████████████████████████████████████████████████████████████████████████| 223/223 [00:14<00:00, 15.50it/s]\n"
     ]
    },
    {
     "name": "stdout",
     "output_type": "stream",
     "text": [
      "Epoch 36, Loss train: 0.1677\n",
      "MAE val: 2950.4416420427674, MSE val: 165508172.47421524, MAPE val: 0.7111191533739791\n",
      "\n"
     ]
    },
    {
     "name": "stderr",
     "output_type": "stream",
     "text": [
      "100%|█████████████████████████████████████████████████████████████████████████████████████████████████████████████████| 889/889 [02:26<00:00,  6.06it/s]\n",
      "100%|█████████████████████████████████████████████████████████████████████████████████████████████████████████████████| 223/223 [00:14<00:00, 15.58it/s]\n"
     ]
    },
    {
     "name": "stdout",
     "output_type": "stream",
     "text": [
      "Epoch 37, Loss train: 0.1600\n",
      "MAE val: 2944.098311762104, MSE val: 164082747.4344871, MAPE val: 0.7642841303696012\n",
      "\n"
     ]
    },
    {
     "name": "stderr",
     "output_type": "stream",
     "text": [
      "100%|█████████████████████████████████████████████████████████████████████████████████████████████████████████████████| 889/889 [02:26<00:00,  6.07it/s]\n",
      "100%|█████████████████████████████████████████████████████████████████████████████████████████████████████████████████| 223/223 [00:14<00:00, 15.55it/s]\n"
     ]
    },
    {
     "name": "stdout",
     "output_type": "stream",
     "text": [
      "Epoch 38, Loss train: 0.1621\n",
      "MAE val: 3009.37209207167, MSE val: 167133262.52102017, MAPE val: 0.6694752119581796\n",
      "\n"
     ]
    },
    {
     "name": "stderr",
     "output_type": "stream",
     "text": [
      "100%|█████████████████████████████████████████████████████████████████████████████████████████████████████████████████| 889/889 [02:26<00:00,  6.07it/s]\n",
      "100%|█████████████████████████████████████████████████████████████████████████████████████████████████████████████████| 223/223 [00:14<00:00, 15.58it/s]\n"
     ]
    },
    {
     "name": "stdout",
     "output_type": "stream",
     "text": [
      "Epoch 39, Loss train: 0.1510\n",
      "MAE val: 2960.228488802375, MSE val: 166823118.18171945, MAPE val: 0.6492554045578824\n",
      "\n"
     ]
    },
    {
     "name": "stderr",
     "output_type": "stream",
     "text": [
      "100%|█████████████████████████████████████████████████████████████████████████████████████████████████████████████████| 889/889 [02:27<00:00,  6.04it/s]\n",
      "100%|█████████████████████████████████████████████████████████████████████████████████████████████████████████████████| 223/223 [00:14<00:00, 15.41it/s]\n"
     ]
    },
    {
     "name": "stdout",
     "output_type": "stream",
     "text": [
      "Epoch 40, Loss train: 0.1488\n",
      "MAE val: 3064.692056014399, MSE val: 169041526.53755605, MAPE val: 0.6035670761035696\n",
      "\n"
     ]
    },
    {
     "name": "stderr",
     "output_type": "stream",
     "text": [
      "100%|█████████████████████████████████████████████████████████████████████████████████████████████████████████████████| 889/889 [02:26<00:00,  6.07it/s]\n",
      "100%|█████████████████████████████████████████████████████████████████████████████████████████████████████████████████| 223/223 [00:14<00:00, 15.53it/s]\n"
     ]
    },
    {
     "name": "stdout",
     "output_type": "stream",
     "text": [
      "Epoch 41, Loss train: 0.1493\n",
      "MAE val: 2994.462417397264, MSE val: 167726993.86638173, MAPE val: 0.612169205474212\n",
      "\n"
     ]
    },
    {
     "name": "stderr",
     "output_type": "stream",
     "text": [
      "100%|█████████████████████████████████████████████████████████████████████████████████████████████████████████████████| 889/889 [02:26<00:00,  6.09it/s]\n",
      "100%|█████████████████████████████████████████████████████████████████████████████████████████████████████████████████| 223/223 [00:14<00:00, 15.47it/s]\n"
     ]
    },
    {
     "name": "stdout",
     "output_type": "stream",
     "text": [
      "Epoch 42, Loss train: 0.1473\n",
      "MAE val: 2958.8916099103576, MSE val: 165879187.03195068, MAPE val: 0.689308128148451\n",
      "\n"
     ]
    },
    {
     "name": "stderr",
     "output_type": "stream",
     "text": [
      "100%|█████████████████████████████████████████████████████████████████████████████████████████████████████████████████| 889/889 [02:26<00:00,  6.08it/s]\n",
      "100%|█████████████████████████████████████████████████████████████████████████████████████████████████████████████████| 223/223 [00:14<00:00, 15.35it/s]\n"
     ]
    },
    {
     "name": "stdout",
     "output_type": "stream",
     "text": [
      "Epoch 43, Loss train: 0.1485\n",
      "MAE val: 3045.1075937587584, MSE val: 168383046.76786715, MAPE val: 0.6141989093457637\n",
      "\n"
     ]
    },
    {
     "name": "stderr",
     "output_type": "stream",
     "text": [
      "100%|█████████████████████████████████████████████████████████████████████████████████████████████████████████████████| 889/889 [02:27<00:00,  6.05it/s]\n",
      "100%|█████████████████████████████████████████████████████████████████████████████████████████████████████████████████| 223/223 [00:14<00:00, 15.14it/s]\n"
     ]
    },
    {
     "name": "stdout",
     "output_type": "stream",
     "text": [
      "Epoch 44, Loss train: 0.1469\n",
      "MAE val: 3035.134693162858, MSE val: 167819088.92748037, MAPE val: 0.615667260347995\n",
      "\n"
     ]
    },
    {
     "name": "stderr",
     "output_type": "stream",
     "text": [
      "100%|█████████████████████████████████████████████████████████████████████████████████████████████████████████████████| 889/889 [02:28<00:00,  5.97it/s]\n",
      "100%|█████████████████████████████████████████████████████████████████████████████████████████████████████████████████| 223/223 [00:14<00:00, 15.33it/s]\n"
     ]
    },
    {
     "name": "stdout",
     "output_type": "stream",
     "text": [
      "Epoch 45, Loss train: 0.1498\n",
      "MAE val: 2978.1877088332926, MSE val: 166538856.68203476, MAPE val: 0.645208392041681\n",
      "\n"
     ]
    },
    {
     "name": "stderr",
     "output_type": "stream",
     "text": [
      "100%|█████████████████████████████████████████████████████████████████████████████████████████████████████████████████| 889/889 [02:26<00:00,  6.06it/s]\n",
      "100%|█████████████████████████████████████████████████████████████████████████████████████████████████████████████████| 223/223 [00:14<00:00, 15.52it/s]\n"
     ]
    },
    {
     "name": "stdout",
     "output_type": "stream",
     "text": [
      "Epoch 46, Loss train: 0.1479\n",
      "MAE val: 3065.1885455349634, MSE val: 169273064.9554372, MAPE val: 0.607431061465644\n",
      "\n"
     ]
    },
    {
     "name": "stderr",
     "output_type": "stream",
     "text": [
      "100%|█████████████████████████████████████████████████████████████████████████████████████████████████████████████████| 889/889 [02:26<00:00,  6.09it/s]\n",
      "100%|█████████████████████████████████████████████████████████████████████████████████████████████████████████████████| 223/223 [00:13<00:00, 15.95it/s]\n"
     ]
    },
    {
     "name": "stdout",
     "output_type": "stream",
     "text": [
      "Epoch 47, Loss train: 0.1412\n",
      "MAE val: 3026.6787844260175, MSE val: 167007198.8300869, MAPE val: 0.6416809687833614\n",
      "\n"
     ]
    },
    {
     "name": "stderr",
     "output_type": "stream",
     "text": [
      "100%|█████████████████████████████████████████████████████████████████████████████████████████████████████████████████| 889/889 [02:26<00:00,  6.08it/s]\n",
      "100%|█████████████████████████████████████████████████████████████████████████████████████████████████████████████████| 223/223 [00:14<00:00, 15.43it/s]\n"
     ]
    },
    {
     "name": "stdout",
     "output_type": "stream",
     "text": [
      "Epoch 48, Loss train: 0.1462\n",
      "MAE val: 2992.1117150003065, MSE val: 166391085.7422926, MAPE val: 0.6473218477894908\n",
      "\n"
     ]
    },
    {
     "name": "stderr",
     "output_type": "stream",
     "text": [
      "100%|█████████████████████████████████████████████████████████████████████████████████████████████████████████████████| 889/889 [02:25<00:00,  6.11it/s]\n",
      "100%|█████████████████████████████████████████████████████████████████████████████████████████████████████████████████| 223/223 [00:14<00:00, 15.90it/s]\n"
     ]
    },
    {
     "name": "stdout",
     "output_type": "stream",
     "text": [
      "Epoch 49, Loss train: 0.1363\n",
      "MAE val: 3043.062427332583, MSE val: 168320549.23297366, MAPE val: 0.6161572754115802\n",
      "\n"
     ]
    },
    {
     "name": "stderr",
     "output_type": "stream",
     "text": [
      "100%|█████████████████████████████████████████████████████████████████████████████████████████████████████████████████| 889/889 [02:23<00:00,  6.18it/s]\n",
      "100%|█████████████████████████████████████████████████████████████████████████████████████████████████████████████████| 223/223 [00:13<00:00, 16.03it/s]\n"
     ]
    },
    {
     "name": "stdout",
     "output_type": "stream",
     "text": [
      "Epoch 50, Loss train: 0.1321\n",
      "MAE val: 2975.3659120568245, MSE val: 166753612.38279498, MAPE val: 0.6226650053476539\n",
      "\n"
     ]
    },
    {
     "name": "stderr",
     "output_type": "stream",
     "text": [
      "100%|█████████████████████████████████████████████████████████████████████████████████████████████████████████████████| 889/889 [02:24<00:00,  6.16it/s]\n",
      "100%|█████████████████████████████████████████████████████████████████████████████████████████████████████████████████| 223/223 [00:13<00:00, 15.94it/s]\n"
     ]
    },
    {
     "name": "stdout",
     "output_type": "stream",
     "text": [
      "Epoch 51, Loss train: 0.1307\n",
      "MAE val: 3067.6808644110847, MSE val: 168065314.29680493, MAPE val: 0.5937502440315725\n",
      "\n"
     ]
    },
    {
     "name": "stderr",
     "output_type": "stream",
     "text": [
      "100%|█████████████████████████████████████████████████████████████████████████████████████████████████████████████████| 889/889 [02:24<00:00,  6.15it/s]\n",
      "100%|█████████████████████████████████████████████████████████████████████████████████████████████████████████████████| 223/223 [00:14<00:00, 15.83it/s]\n"
     ]
    },
    {
     "name": "stdout",
     "output_type": "stream",
     "text": [
      "Epoch 52, Loss train: 0.1298\n",
      "MAE val: 3109.126834612791, MSE val: 169251253.37738228, MAPE val: 0.5678933734583748\n",
      "\n"
     ]
    },
    {
     "name": "stderr",
     "output_type": "stream",
     "text": [
      "100%|█████████████████████████████████████████████████████████████████████████████████████████████████████████████████| 889/889 [02:24<00:00,  6.15it/s]\n",
      "100%|█████████████████████████████████████████████████████████████████████████████████████████████████████████████████| 223/223 [00:14<00:00, 15.87it/s]\n"
     ]
    },
    {
     "name": "stdout",
     "output_type": "stream",
     "text": [
      "Epoch 53, Loss train: 0.1327\n",
      "MAE val: 3194.534755826531, MSE val: 170735386.9801009, MAPE val: 0.5758670144818824\n",
      "\n"
     ]
    },
    {
     "name": "stderr",
     "output_type": "stream",
     "text": [
      "100%|█████████████████████████████████████████████████████████████████████████████████████████████████████████████████| 889/889 [02:24<00:00,  6.16it/s]\n",
      "100%|█████████████████████████████████████████████████████████████████████████████████████████████████████████████████| 223/223 [00:13<00:00, 16.00it/s]\n"
     ]
    },
    {
     "name": "stdout",
     "output_type": "stream",
     "text": [
      "Epoch 54, Loss train: 0.1391\n",
      "MAE val: 2972.7996641424206, MSE val: 166687573.27532932, MAPE val: 0.6417454427667797\n",
      "\n"
     ]
    },
    {
     "name": "stderr",
     "output_type": "stream",
     "text": [
      "100%|█████████████████████████████████████████████████████████████████████████████████████████████████████████████████| 889/889 [02:24<00:00,  6.16it/s]\n",
      "100%|█████████████████████████████████████████████████████████████████████████████████████████████████████████████████| 223/223 [00:14<00:00, 15.87it/s]\n"
     ]
    },
    {
     "name": "stdout",
     "output_type": "stream",
     "text": [
      "Epoch 55, Loss train: 0.1232\n",
      "MAE val: 3119.841768547024, MSE val: 169830904.63838285, MAPE val: 0.5812967827234568\n",
      "\n"
     ]
    },
    {
     "name": "stderr",
     "output_type": "stream",
     "text": [
      "100%|█████████████████████████████████████████████████████████████████████████████████████████████████████████████████| 889/889 [02:24<00:00,  6.17it/s]\n",
      "100%|█████████████████████████████████████████████████████████████████████████████████████████████████████████████████| 223/223 [00:14<00:00, 15.82it/s]\n"
     ]
    },
    {
     "name": "stdout",
     "output_type": "stream",
     "text": [
      "Epoch 56, Loss train: 0.1246\n",
      "MAE val: 3014.3492092252313, MSE val: 167464606.02956837, MAPE val: 0.6391027210271947\n",
      "\n"
     ]
    },
    {
     "name": "stderr",
     "output_type": "stream",
     "text": [
      "100%|█████████████████████████████████████████████████████████████████████████████████████████████████████████████████| 889/889 [02:24<00:00,  6.15it/s]\n",
      "100%|█████████████████████████████████████████████████████████████████████████████████████████████████████████████████| 223/223 [00:14<00:00, 15.88it/s]\n"
     ]
    },
    {
     "name": "stdout",
     "output_type": "stream",
     "text": [
      "Epoch 57, Loss train: 0.1224\n",
      "MAE val: 3043.9219613524297, MSE val: 168750852.75416902, MAPE val: 0.6137363674795681\n",
      "\n"
     ]
    },
    {
     "name": "stderr",
     "output_type": "stream",
     "text": [
      "100%|█████████████████████████████████████████████████████████████████████████████████████████████████████████████████| 889/889 [02:24<00:00,  6.17it/s]\n",
      "100%|█████████████████████████████████████████████████████████████████████████████████████████████████████████████████| 223/223 [00:13<00:00, 15.99it/s]\n"
     ]
    },
    {
     "name": "stdout",
     "output_type": "stream",
     "text": [
      "Epoch 58, Loss train: 0.1266\n",
      "MAE val: 3185.9801446889014, MSE val: 170565161.22267377, MAPE val: 0.5705872718662425\n",
      "\n"
     ]
    },
    {
     "name": "stderr",
     "output_type": "stream",
     "text": [
      "100%|█████████████████████████████████████████████████████████████████████████████████████████████████████████████████| 889/889 [02:24<00:00,  6.17it/s]\n",
      "100%|█████████████████████████████████████████████████████████████████████████████████████████████████████████████████| 223/223 [00:14<00:00, 15.87it/s]\n"
     ]
    },
    {
     "name": "stdout",
     "output_type": "stream",
     "text": [
      "Epoch 59, Loss train: 0.1211\n",
      "MAE val: 3263.0298552235145, MSE val: 172221091.2503766, MAPE val: 0.5652243667386573\n",
      "\n"
     ]
    },
    {
     "name": "stderr",
     "output_type": "stream",
     "text": [
      "100%|█████████████████████████████████████████████████████████████████████████████████████████████████████████████████| 889/889 [02:24<00:00,  6.17it/s]\n",
      "100%|█████████████████████████████████████████████████████████████████████████████████████████████████████████████████| 223/223 [00:14<00:00, 15.92it/s]\n"
     ]
    },
    {
     "name": "stdout",
     "output_type": "stream",
     "text": [
      "Epoch 60, Loss train: 0.1111\n",
      "MAE val: 3208.027564215553, MSE val: 171192986.69772983, MAPE val: 0.5711701956030499\n",
      "\n"
     ]
    },
    {
     "name": "stderr",
     "output_type": "stream",
     "text": [
      "100%|█████████████████████████████████████████████████████████████████████████████████████████████████████████████████| 889/889 [02:24<00:00,  6.17it/s]\n",
      "100%|█████████████████████████████████████████████████████████████████████████████████████████████████████████████████| 223/223 [00:14<00:00, 15.70it/s]\n"
     ]
    },
    {
     "name": "stdout",
     "output_type": "stream",
     "text": [
      "Epoch 61, Loss train: 0.1084\n",
      "MAE val: 3195.8134086848377, MSE val: 170664989.97015134, MAPE val: 0.5743137263930966\n",
      "\n"
     ]
    },
    {
     "name": "stderr",
     "output_type": "stream",
     "text": [
      "100%|█████████████████████████████████████████████████████████████████████████████████████████████████████████████████| 889/889 [02:25<00:00,  6.12it/s]\n",
      "100%|█████████████████████████████████████████████████████████████████████████████████████████████████████████████████| 223/223 [00:14<00:00, 15.90it/s]\n"
     ]
    },
    {
     "name": "stdout",
     "output_type": "stream",
     "text": [
      "Epoch 62, Loss train: 0.1086\n",
      "MAE val: 3315.916454092804, MSE val: 172722041.28923768, MAPE val: 0.5780117526449965\n",
      "\n"
     ]
    },
    {
     "name": "stderr",
     "output_type": "stream",
     "text": [
      "100%|█████████████████████████████████████████████████████████████████████████████████████████████████████████████████| 889/889 [02:24<00:00,  6.14it/s]\n",
      "100%|█████████████████████████████████████████████████████████████████████████████████████████████████████████████████| 223/223 [00:14<00:00, 15.81it/s]\n"
     ]
    },
    {
     "name": "stdout",
     "output_type": "stream",
     "text": [
      "Epoch 63, Loss train: 0.0957\n",
      "MAE val: 3412.4776545640066, MSE val: 174195262.24131167, MAPE val: 0.5758577251113584\n",
      "\n"
     ]
    },
    {
     "name": "stderr",
     "output_type": "stream",
     "text": [
      "100%|█████████████████████████████████████████████████████████████████████████████████████████████████████████████████| 889/889 [02:24<00:00,  6.14it/s]\n",
      "100%|█████████████████████████████████████████████████████████████████████████████████████████████████████████████████| 223/223 [00:14<00:00, 15.78it/s]\n"
     ]
    },
    {
     "name": "stdout",
     "output_type": "stream",
     "text": [
      "Epoch 64, Loss train: 0.0912\n",
      "MAE val: 3478.766752097639, MSE val: 174313331.6903027, MAPE val: 0.6001495857944403\n",
      "\n"
     ]
    },
    {
     "name": "stderr",
     "output_type": "stream",
     "text": [
      "100%|█████████████████████████████████████████████████████████████████████████████████████████████████████████████████| 889/889 [02:24<00:00,  6.14it/s]\n",
      "100%|█████████████████████████████████████████████████████████████████████████████████████████████████████████████████| 223/223 [00:14<00:00, 15.76it/s]\n"
     ]
    },
    {
     "name": "stdout",
     "output_type": "stream",
     "text": [
      "Epoch 65, Loss train: 0.0808\n",
      "MAE val: 3428.7122763047837, MSE val: 173797122.76548487, MAPE val: 0.5866409091136915\n",
      "\n"
     ]
    },
    {
     "name": "stderr",
     "output_type": "stream",
     "text": [
      "100%|█████████████████████████████████████████████████████████████████████████████████████████████████████████████████| 889/889 [02:24<00:00,  6.14it/s]\n",
      "100%|█████████████████████████████████████████████████████████████████████████████████████████████████████████████████| 223/223 [00:14<00:00, 15.73it/s]\n"
     ]
    },
    {
     "name": "stdout",
     "output_type": "stream",
     "text": [
      "Epoch 66, Loss train: 0.0762\n",
      "MAE val: 3779.9004660294195, MSE val: 212665317.50966927, MAPE val: 0.6189224500827191\n",
      "\n"
     ]
    },
    {
     "name": "stderr",
     "output_type": "stream",
     "text": [
      "100%|█████████████████████████████████████████████████████████████████████████████████████████████████████████████████| 889/889 [02:24<00:00,  6.14it/s]\n",
      "100%|█████████████████████████████████████████████████████████████████████████████████████████████████████████████████| 223/223 [00:14<00:00, 15.76it/s]\n"
     ]
    },
    {
     "name": "stdout",
     "output_type": "stream",
     "text": [
      "Epoch 67, Loss train: 0.0685\n",
      "MAE val: 3582.259268311642, MSE val: 175652464.6846973, MAPE val: 0.6362908028166391\n",
      "\n"
     ]
    },
    {
     "name": "stderr",
     "output_type": "stream",
     "text": [
      "100%|█████████████████████████████████████████████████████████████████████████████████████████████████████████████████| 889/889 [02:24<00:00,  6.14it/s]\n",
      "100%|█████████████████████████████████████████████████████████████████████████████████████████████████████████████████| 223/223 [00:14<00:00, 15.77it/s]\n"
     ]
    },
    {
     "name": "stdout",
     "output_type": "stream",
     "text": [
      "Epoch 68, Loss train: 0.0596\n",
      "MAE val: 3658.097637775233, MSE val: 176642843.4390152, MAPE val: 0.6632482507704619\n",
      "\n"
     ]
    },
    {
     "name": "stderr",
     "output_type": "stream",
     "text": [
      "100%|█████████████████████████████████████████████████████████████████████████████████████████████████████████████████| 889/889 [02:24<00:00,  6.14it/s]\n",
      "100%|█████████████████████████████████████████████████████████████████████████████████████████████████████████████████| 223/223 [00:14<00:00, 15.83it/s]\n"
     ]
    },
    {
     "name": "stdout",
     "output_type": "stream",
     "text": [
      "Epoch 69, Loss train: 0.0568\n",
      "MAE val: 3716.2536667622794, MSE val: 177322004.87107623, MAPE val: 0.6943892788459367\n",
      "\n"
     ]
    },
    {
     "name": "stderr",
     "output_type": "stream",
     "text": [
      "100%|█████████████████████████████████████████████████████████████████████████████████████████████████████████████████| 889/889 [02:24<00:00,  6.16it/s]\n",
      "100%|█████████████████████████████████████████████████████████████████████████████████████████████████████████████████| 223/223 [00:14<00:00, 15.82it/s]\n"
     ]
    },
    {
     "name": "stdout",
     "output_type": "stream",
     "text": [
      "Epoch 70, Loss train: 0.0503\n",
      "MAE val: 3784.572585033194, MSE val: 177880175.23038116, MAPE val: 0.7278451409040545\n",
      "\n"
     ]
    },
    {
     "name": "stderr",
     "output_type": "stream",
     "text": [
      "100%|█████████████████████████████████████████████████████████████████████████████████████████████████████████████████| 889/889 [02:24<00:00,  6.15it/s]\n",
      "100%|█████████████████████████████████████████████████████████████████████████████████████████████████████████████████| 223/223 [00:14<00:00, 15.90it/s]\n"
     ]
    },
    {
     "name": "stdout",
     "output_type": "stream",
     "text": [
      "Epoch 71, Loss train: 0.0455\n",
      "MAE val: 3766.6306550577615, MSE val: 177595710.73346412, MAPE val: 0.7197634366595692\n",
      "\n"
     ]
    },
    {
     "name": "stderr",
     "output_type": "stream",
     "text": [
      "100%|█████████████████████████████████████████████████████████████████████████████████████████████████████████████████| 889/889 [02:24<00:00,  6.16it/s]\n",
      "100%|█████████████████████████████████████████████████████████████████████████████████████████████████████████████████| 223/223 [00:13<00:00, 15.99it/s]\n"
     ]
    },
    {
     "name": "stdout",
     "output_type": "stream",
     "text": [
      "Epoch 72, Loss train: 0.0452\n",
      "MAE val: 3848.521161956103, MSE val: 178455416.257287, MAPE val: 0.764186853517866\n",
      "\n"
     ]
    },
    {
     "name": "stderr",
     "output_type": "stream",
     "text": [
      "100%|█████████████████████████████████████████████████████████████████████████████████████████████████████████████████| 889/889 [02:24<00:00,  6.17it/s]\n",
      "100%|█████████████████████████████████████████████████████████████████████████████████████████████████████████████████| 223/223 [00:13<00:00, 15.93it/s]\n"
     ]
    },
    {
     "name": "stdout",
     "output_type": "stream",
     "text": [
      "Epoch 73, Loss train: 0.0438\n",
      "MAE val: 3871.0411390638137, MSE val: 178766623.75154147, MAPE val: 0.7798047434588719\n",
      "\n"
     ]
    },
    {
     "name": "stderr",
     "output_type": "stream",
     "text": [
      "100%|█████████████████████████████████████████████████████████████████████████████████████████████████████████████████| 889/889 [02:24<00:00,  6.16it/s]\n",
      "100%|█████████████████████████████████████████████████████████████████████████████████████████████████████████████████| 223/223 [00:13<00:00, 16.00it/s]\n"
     ]
    },
    {
     "name": "stdout",
     "output_type": "stream",
     "text": [
      "Epoch 74, Loss train: 0.0405\n",
      "MAE val: 3820.4951445575252, MSE val: 178219517.53923768, MAPE val: 0.7377833875038164\n",
      "\n"
     ]
    },
    {
     "name": "stderr",
     "output_type": "stream",
     "text": [
      "100%|█████████████████████████████████████████████████████████████████████████████████████████████████████████████████| 889/889 [02:24<00:00,  6.16it/s]\n",
      "100%|█████████████████████████████████████████████████████████████████████████████████████████████████████████████████| 223/223 [00:13<00:00, 15.96it/s]\n"
     ]
    },
    {
     "name": "stdout",
     "output_type": "stream",
     "text": [
      "Epoch 75, Loss train: 0.0406\n",
      "MAE val: 3848.7752847030024, MSE val: 178565279.5252242, MAPE val: 0.7657732482448287\n",
      "\n"
     ]
    },
    {
     "name": "stderr",
     "output_type": "stream",
     "text": [
      "100%|█████████████████████████████████████████████████████████████████████████████████████████████████████████████████| 889/889 [02:24<00:00,  6.17it/s]\n",
      "100%|█████████████████████████████████████████████████████████████████████████████████████████████████████████████████| 223/223 [00:14<00:00, 15.87it/s]\n"
     ]
    },
    {
     "name": "stdout",
     "output_type": "stream",
     "text": [
      "Epoch 76, Loss train: 0.0404\n",
      "MAE val: 3816.367375258373, MSE val: 178146092.94058296, MAPE val: 0.7484058336826718\n",
      "\n"
     ]
    },
    {
     "name": "stderr",
     "output_type": "stream",
     "text": [
      "100%|█████████████████████████████████████████████████████████████████████████████████████████████████████████████████| 889/889 [02:24<00:00,  6.16it/s]\n",
      "100%|█████████████████████████████████████████████████████████████████████████████████████████████████████████████████| 223/223 [00:13<00:00, 15.97it/s]\n"
     ]
    },
    {
     "name": "stdout",
     "output_type": "stream",
     "text": [
      "Epoch 77, Loss train: 0.0377\n",
      "MAE val: 3913.412973994097, MSE val: 180677241.3206278, MAPE val: 0.7707693109063289\n",
      "\n"
     ]
    },
    {
     "name": "stderr",
     "output_type": "stream",
     "text": [
      "100%|█████████████████████████████████████████████████████████████████████████████████████████████████████████████████| 889/889 [02:24<00:00,  6.16it/s]\n",
      "100%|█████████████████████████████████████████████████████████████████████████████████████████████████████████████████| 223/223 [00:13<00:00, 16.04it/s]\n"
     ]
    },
    {
     "name": "stdout",
     "output_type": "stream",
     "text": [
      "Epoch 78, Loss train: 0.0392\n",
      "MAE val: 3797.625642237642, MSE val: 177947647.24215245, MAPE val: 0.7375031506534114\n",
      "\n"
     ]
    },
    {
     "name": "stderr",
     "output_type": "stream",
     "text": [
      "100%|█████████████████████████████████████████████████████████████████████████████████████████████████████████████████| 889/889 [02:24<00:00,  6.17it/s]\n",
      "100%|█████████████████████████████████████████████████████████████████████████████████████████████████████████████████| 223/223 [00:14<00:00, 15.87it/s]\n"
     ]
    },
    {
     "name": "stdout",
     "output_type": "stream",
     "text": [
      "Epoch 79, Loss train: 0.0391\n",
      "MAE val: 3834.269186387682, MSE val: 178492425.82931614, MAPE val: 0.7433886712442065\n",
      "\n"
     ]
    },
    {
     "name": "stderr",
     "output_type": "stream",
     "text": [
      "100%|█████████████████████████████████████████████████████████████████████████████████████████████████████████████████| 889/889 [02:24<00:00,  6.16it/s]\n",
      "100%|█████████████████████████████████████████████████████████████████████████████████████████████████████████████████| 223/223 [00:14<00:00, 15.88it/s]\n"
     ]
    },
    {
     "name": "stdout",
     "output_type": "stream",
     "text": [
      "Epoch 80, Loss train: 0.0362\n",
      "MAE val: 3842.4290662004273, MSE val: 178463293.56642377, MAPE val: 0.7612256525343309\n",
      "\n"
     ]
    },
    {
     "name": "stderr",
     "output_type": "stream",
     "text": [
      "100%|█████████████████████████████████████████████████████████████████████████████████████████████████████████████████| 889/889 [02:24<00:00,  6.16it/s]\n",
      "100%|█████████████████████████████████████████████████████████████████████████████████████████████████████████████████| 223/223 [00:14<00:00, 15.92it/s]\n"
     ]
    },
    {
     "name": "stdout",
     "output_type": "stream",
     "text": [
      "Epoch 81, Loss train: 0.0375\n",
      "MAE val: 3897.6516137914273, MSE val: 179629852.67516816, MAPE val: 0.7689601011874965\n",
      "\n"
     ]
    },
    {
     "name": "stderr",
     "output_type": "stream",
     "text": [
      "100%|█████████████████████████████████████████████████████████████████████████████████████████████████████████████████| 889/889 [02:24<00:00,  6.17it/s]\n",
      "100%|█████████████████████████████████████████████████████████████████████████████████████████████████████████████████| 223/223 [00:13<00:00, 15.99it/s]\n"
     ]
    },
    {
     "name": "stdout",
     "output_type": "stream",
     "text": [
      "Epoch 82, Loss train: 0.0349\n",
      "MAE val: 3849.1927665402536, MSE val: 178643009.75504485, MAPE val: 0.764185890221275\n",
      "\n"
     ]
    },
    {
     "name": "stderr",
     "output_type": "stream",
     "text": [
      "100%|█████████████████████████████████████████████████████████████████████████████████████████████████████████████████| 889/889 [02:24<00:00,  6.17it/s]\n",
      "100%|█████████████████████████████████████████████████████████████████████████████████████████████████████████████████| 223/223 [00:14<00:00, 15.89it/s]\n"
     ]
    },
    {
     "name": "stdout",
     "output_type": "stream",
     "text": [
      "Epoch 83, Loss train: 0.0363\n",
      "MAE val: 3875.6808277352507, MSE val: 179192188.53139013, MAPE val: 0.7635502101594557\n",
      "\n"
     ]
    },
    {
     "name": "stderr",
     "output_type": "stream",
     "text": [
      "100%|█████████████████████████████████████████████████████████████████████████████████████████████████████████████████| 889/889 [02:24<00:00,  6.16it/s]\n",
      "100%|█████████████████████████████████████████████████████████████████████████████████████████████████████████████████| 223/223 [00:14<00:00, 15.90it/s]\n"
     ]
    },
    {
     "name": "stdout",
     "output_type": "stream",
     "text": [
      "Epoch 84, Loss train: 0.0360\n",
      "MAE val: 3831.650777363456, MSE val: 178403297.3724776, MAPE val: 0.7548947171245455\n",
      "\n"
     ]
    },
    {
     "name": "stderr",
     "output_type": "stream",
     "text": [
      "100%|█████████████████████████████████████████████████████████████████████████████████████████████████████████████████| 889/889 [02:24<00:00,  6.16it/s]\n",
      "100%|█████████████████████████████████████████████████████████████████████████████████████████████████████████████████| 223/223 [00:14<00:00, 15.91it/s]\n"
     ]
    },
    {
     "name": "stdout",
     "output_type": "stream",
     "text": [
      "Epoch 85, Loss train: 0.0357\n",
      "MAE val: 3869.528639994395, MSE val: 178695689.25224215, MAPE val: 0.7766597792172111\n",
      "\n"
     ]
    },
    {
     "name": "stderr",
     "output_type": "stream",
     "text": [
      "100%|█████████████████████████████████████████████████████████████████████████████████████████████████████████████████| 889/889 [02:24<00:00,  6.17it/s]\n",
      "100%|█████████████████████████████████████████████████████████████████████████████████████████████████████████████████| 223/223 [00:14<00:00, 15.91it/s]\n"
     ]
    },
    {
     "name": "stdout",
     "output_type": "stream",
     "text": [
      "Epoch 86, Loss train: 0.0329\n",
      "MAE val: 3849.5549696849603, MSE val: 178603289.9422646, MAPE val: 0.7668529339969961\n",
      "\n"
     ]
    },
    {
     "name": "stderr",
     "output_type": "stream",
     "text": [
      "100%|█████████████████████████████████████████████████████████████████████████████████████████████████████████████████| 889/889 [02:24<00:00,  6.15it/s]\n",
      "100%|█████████████████████████████████████████████████████████████████████████████████████████████████████████████████| 223/223 [00:14<00:00, 15.82it/s]\n"
     ]
    },
    {
     "name": "stdout",
     "output_type": "stream",
     "text": [
      "Epoch 87, Loss train: 0.0333\n",
      "MAE val: 3792.4908031241243, MSE val: 178089934.83744395, MAPE val: 0.7190211333768785\n",
      "\n"
     ]
    },
    {
     "name": "stderr",
     "output_type": "stream",
     "text": [
      "100%|█████████████████████████████████████████████████████████████████████████████████████████████████████████████████| 889/889 [02:24<00:00,  6.15it/s]\n",
      "100%|█████████████████████████████████████████████████████████████████████████████████████████████████████████████████| 223/223 [00:14<00:00, 15.84it/s]\n"
     ]
    },
    {
     "name": "stdout",
     "output_type": "stream",
     "text": [
      "Epoch 88, Loss train: 0.0328\n",
      "MAE val: 3876.6212930037836, MSE val: 178918444.4747758, MAPE val: 0.7785018094451973\n",
      "\n"
     ]
    },
    {
     "name": "stderr",
     "output_type": "stream",
     "text": [
      "100%|█████████████████████████████████████████████████████████████████████████████████████████████████████████████████| 889/889 [02:24<00:00,  6.15it/s]\n",
      "100%|█████████████████████████████████████████████████████████████████████████████████████████████████████████████████| 223/223 [00:14<00:00, 15.85it/s]\n"
     ]
    },
    {
     "name": "stdout",
     "output_type": "stream",
     "text": [
      "Epoch 89, Loss train: 0.0353\n",
      "MAE val: 3770.2996221294316, MSE val: 177853674.05381167, MAPE val: 0.7156204100146957\n",
      "\n"
     ]
    },
    {
     "name": "stderr",
     "output_type": "stream",
     "text": [
      "100%|█████████████████████████████████████████████████████████████████████████████████████████████████████████████████| 889/889 [02:24<00:00,  6.16it/s]\n",
      "100%|█████████████████████████████████████████████████████████████████████████████████████████████████████████████████| 223/223 [00:14<00:00, 15.88it/s]\n"
     ]
    },
    {
     "name": "stdout",
     "output_type": "stream",
     "text": [
      "Epoch 90, Loss train: 0.0358\n",
      "MAE val: 3834.1474124925553, MSE val: 178445404.7139854, MAPE val: 0.7538311156724066\n",
      "\n"
     ]
    },
    {
     "name": "stderr",
     "output_type": "stream",
     "text": [
      "100%|█████████████████████████████████████████████████████████████████████████████████████████████████████████████████| 889/889 [02:24<00:00,  6.15it/s]\n",
      "100%|█████████████████████████████████████████████████████████████████████████████████████████████████████████████████| 223/223 [00:14<00:00, 15.82it/s]\n"
     ]
    },
    {
     "name": "stdout",
     "output_type": "stream",
     "text": [
      "Epoch 91, Loss train: 0.0314\n",
      "MAE val: 3809.781677793494, MSE val: 178188335.23878923, MAPE val: 0.7378061967045737\n",
      "\n"
     ]
    },
    {
     "name": "stderr",
     "output_type": "stream",
     "text": [
      "100%|█████████████████████████████████████████████████████████████████████████████████████████████████████████████████| 889/889 [02:24<00:00,  6.15it/s]\n",
      "100%|█████████████████████████████████████████████████████████████████████████████████████████████████████████████████| 223/223 [00:14<00:00, 15.83it/s]\n"
     ]
    },
    {
     "name": "stdout",
     "output_type": "stream",
     "text": [
      "Epoch 92, Loss train: 0.0332\n",
      "MAE val: 3782.135283192177, MSE val: 177904743.62163678, MAPE val: 0.7272810342600528\n",
      "\n"
     ]
    },
    {
     "name": "stderr",
     "output_type": "stream",
     "text": [
      "100%|█████████████████████████████████████████████████████████████████████████████████████████████████████████████████| 889/889 [02:24<00:00,  6.15it/s]\n",
      "100%|█████████████████████████████████████████████████████████████████████████████████████████████████████████████████| 223/223 [00:14<00:00, 15.86it/s]\n"
     ]
    },
    {
     "name": "stdout",
     "output_type": "stream",
     "text": [
      "Epoch 93, Loss train: 0.0326\n",
      "MAE val: 3802.312123388453, MSE val: 178128835.617713, MAPE val: 0.7350686717728329\n",
      "\n"
     ]
    },
    {
     "name": "stderr",
     "output_type": "stream",
     "text": [
      "100%|█████████████████████████████████████████████████████████████████████████████████████████████████████████████████| 889/889 [02:24<00:00,  6.15it/s]\n",
      "100%|█████████████████████████████████████████████████████████████████████████████████████████████████████████████████| 223/223 [00:14<00:00, 15.89it/s]\n"
     ]
    },
    {
     "name": "stdout",
     "output_type": "stream",
     "text": [
      "Epoch 94, Loss train: 0.0315\n",
      "MAE val: 3857.5993811089897, MSE val: 178692752.91788116, MAPE val: 0.7642720841506137\n",
      "\n"
     ]
    },
    {
     "name": "stderr",
     "output_type": "stream",
     "text": [
      "100%|█████████████████████████████████████████████████████████████████████████████████████████████████████████████████| 889/889 [02:24<00:00,  6.16it/s]\n",
      "100%|█████████████████████████████████████████████████████████████████████████████████████████████████████████████████| 223/223 [00:14<00:00, 15.81it/s]\n"
     ]
    },
    {
     "name": "stdout",
     "output_type": "stream",
     "text": [
      "Epoch 95, Loss train: 0.0291\n",
      "MAE val: 3873.7278469752837, MSE val: 178795567.4103139, MAPE val: 0.7782021940021772\n",
      "\n"
     ]
    },
    {
     "name": "stderr",
     "output_type": "stream",
     "text": [
      "100%|█████████████████████████████████████████████████████████████████████████████████████████████████████████████████| 889/889 [02:24<00:00,  6.15it/s]\n",
      "100%|█████████████████████████████████████████████████████████████████████████████████████████████████████████████████| 223/223 [00:14<00:00, 15.86it/s]\n"
     ]
    },
    {
     "name": "stdout",
     "output_type": "stream",
     "text": [
      "Epoch 96, Loss train: 0.0302\n",
      "MAE val: 3885.3178749255535, MSE val: 178932738.93778026, MAPE val: 0.7845962288133767\n",
      "\n"
     ]
    },
    {
     "name": "stderr",
     "output_type": "stream",
     "text": [
      "100%|█████████████████████████████████████████████████████████████████████████████████████████████████████████████████| 889/889 [02:24<00:00,  6.15it/s]\n",
      "100%|█████████████████████████████████████████████████████████████████████████████████████████████████████████████████| 223/223 [00:14<00:00, 15.85it/s]\n"
     ]
    },
    {
     "name": "stdout",
     "output_type": "stream",
     "text": [
      "Epoch 97, Loss train: 0.0337\n",
      "MAE val: 3800.1078463840913, MSE val: 178142712.20179373, MAPE val: 0.7365570046976543\n",
      "\n"
     ]
    },
    {
     "name": "stderr",
     "output_type": "stream",
     "text": [
      "100%|█████████████████████████████████████████████████████████████████████████████████████████████████████████████████| 889/889 [02:24<00:00,  6.14it/s]\n",
      "100%|█████████████████████████████████████████████████████████████████████████████████████████████████████████████████| 223/223 [00:14<00:00, 15.78it/s]\n"
     ]
    },
    {
     "name": "stdout",
     "output_type": "stream",
     "text": [
      "Epoch 98, Loss train: 0.0313\n",
      "MAE val: 3856.9271351082975, MSE val: 178717629.6191844, MAPE val: 0.7679167683883633\n",
      "\n"
     ]
    },
    {
     "name": "stderr",
     "output_type": "stream",
     "text": [
      "100%|█████████████████████████████████████████████████████████████████████████████████████████████████████████████████| 889/889 [02:24<00:00,  6.17it/s]\n",
      "100%|█████████████████████████████████████████████████████████████████████████████████████████████████████████████████| 223/223 [00:13<00:00, 15.99it/s]\n"
     ]
    },
    {
     "name": "stdout",
     "output_type": "stream",
     "text": [
      "Epoch 99, Loss train: 0.0339\n",
      "MAE val: 3862.224257670176, MSE val: 178674075.1297646, MAPE val: 0.7706055943206821\n",
      "\n"
     ]
    },
    {
     "name": "stderr",
     "output_type": "stream",
     "text": [
      "100%|█████████████████████████████████████████████████████████████████████████████████████████████████████████████████| 889/889 [02:23<00:00,  6.18it/s]\n",
      "100%|█████████████████████████████████████████████████████████████████████████████████████████████████████████████████| 223/223 [00:13<00:00, 16.07it/s]"
     ]
    },
    {
     "name": "stdout",
     "output_type": "stream",
     "text": [
      "Epoch 100, Loss train: 0.0301\n",
      "MAE val: 3827.522934986337, MSE val: 178245680.97954035, MAPE val: 0.7517310594763991\n",
      "\n"
     ]
    },
    {
     "name": "stderr",
     "output_type": "stream",
     "text": [
      "\n"
     ]
    }
   ],
   "source": [
    "loss_fn = torch.nn.MSELoss()\n",
    "optimizer = torch.optim.Adam(resnet.parameters(), lr=1e-4)\n",
    "\n",
    "num_epochs = 100\n",
    "for epoch in range(num_epochs):\n",
    "    \n",
    "    resnet.train()\n",
    "    running_loss = 0.0\n",
    "    mae = []\n",
    "    mse = []\n",
    "    mape = []\n",
    "    for batch in tqdm(dataloader_train):\n",
    "        pixel_values = batch['pixel_values'].to('mps')\n",
    "        prices = batch['price'].to('mps')\n",
    "\n",
    "        preds = resnet(pixel_values)\n",
    "        loss = loss_fn(preds, prices)\n",
    "\n",
    "        optimizer.zero_grad()\n",
    "        loss.backward()\n",
    "        optimizer.step()\n",
    "        running_loss += loss.item() * pixel_values.size(0)\n",
    "    \n",
    "    resnet.eval()\n",
    "    for batch in tqdm(dataloader_val):\n",
    "        pixel_values = batch['pixel_values'].to('mps')\n",
    "        prices = batch['price'].to('cpu').detach().numpy()\n",
    "\n",
    "        preds = resnet(pixel_values).to('cpu').detach().numpy()\n",
    "        \n",
    "        mae.append(mean_absolute_error(np.exp(prices), np.exp(preds)))\n",
    "        mse.append(mean_squared_error(np.exp(prices), np.exp(preds)))\n",
    "        mape.append(mean_absolute_percentage_error(np.exp(prices), np.exp(preds)))\n",
    "        \n",
    "    avg_loss_train = running_loss / len(dataloader_train.dataset)\n",
    "    print(f\"Epoch {epoch+1}, Loss train: {avg_loss_train:.4f}\")\n",
    "    print(f\"MAE val: {np.mean(mae)}, MSE val: {np.mean(mse)}, MAPE val: {np.mean(mape)}\\n\")\n"
   ]
  },
  {
   "cell_type": "code",
   "execution_count": 142,
   "id": "aced3f22",
   "metadata": {},
   "outputs": [],
   "source": [
    "torch.save(resnet.state_dict(), 'models/resnet18_shoesСlothes_model_weights_100epoch.pth')"
   ]
  },
  {
   "cell_type": "code",
   "execution_count": 80,
   "id": "60cedffe",
   "metadata": {},
   "outputs": [
    {
     "data": {
      "text/plain": [
       "5        5.700444\n",
       "7        6.214608\n",
       "11       5.857933\n",
       "14       5.393628\n",
       "17       7.600902\n",
       "           ...   \n",
       "61451    8.006368\n",
       "61453    6.620073\n",
       "61455    6.897705\n",
       "61457    7.377759\n",
       "61459    6.551080\n",
       "Name: log_price, Length: 10599, dtype: float64"
      ]
     },
     "execution_count": 80,
     "metadata": {},
     "output_type": "execute_result"
    }
   ],
   "source": [
    "data[data.subcategory_name=='Одежда, обувь, аксессуары'].log_price"
   ]
  },
  {
   "cell_type": "code",
   "execution_count": 106,
   "id": "24327db0-bd66-4254-8d52-8018792313db",
   "metadata": {},
   "outputs": [],
   "source": [
    "item = next(iter(dataloader))['pixel_values']"
   ]
  },
  {
   "cell_type": "code",
   "execution_count": 50,
   "id": "510fb331-fc4b-45b9-b2fd-818094f19267",
   "metadata": {},
   "outputs": [],
   "source": [
    "dataset = PriceDataset(data.image_path.values[100:101], data.price.values[100:101], processor)\n",
    "dataloader = DataLoader(dataset, batch_size=8, shuffle=True)"
   ]
  },
  {
   "cell_type": "code",
   "execution_count": 54,
   "id": "7785a7d2-e2d5-49e0-a57c-0b43074db847",
   "metadata": {},
   "outputs": [
    {
     "data": {
      "text/plain": [
       "tensor([[[[ 0.6235,  0.6235,  0.6078,  ..., -0.8039, -0.8039, -0.8039],\n",
       "          [ 0.6157,  0.6157,  0.6000,  ..., -0.8196, -0.7804, -0.7725],\n",
       "          [ 0.6078,  0.6078,  0.5922,  ..., -0.8275, -0.7882, -0.7725],\n",
       "          ...,\n",
       "          [ 0.6078,  0.6078,  0.6157,  ..., -0.7882, -0.7961, -0.7961],\n",
       "          [ 0.6078,  0.6157,  0.6235,  ..., -0.7961, -0.7961, -0.7961],\n",
       "          [ 0.6235,  0.6235,  0.6235,  ..., -0.7882, -0.7961, -0.7882]],\n",
       "\n",
       "         [[ 0.5843,  0.5843,  0.5843,  ..., -0.8039, -0.8039, -0.8039],\n",
       "          [ 0.5765,  0.5765,  0.5765,  ..., -0.8196, -0.7804, -0.7725],\n",
       "          [ 0.5686,  0.5686,  0.5765,  ..., -0.8275, -0.7882, -0.7725],\n",
       "          ...,\n",
       "          [ 0.6000,  0.6000,  0.6078,  ..., -0.7961, -0.7961, -0.7882],\n",
       "          [ 0.6000,  0.6078,  0.6157,  ..., -0.7882, -0.7882, -0.7804],\n",
       "          [ 0.6157,  0.6157,  0.6157,  ..., -0.7804, -0.7804, -0.7725]],\n",
       "\n",
       "         [[ 0.5451,  0.5373,  0.5137,  ..., -0.8196, -0.8196, -0.8196],\n",
       "          [ 0.5373,  0.5294,  0.5059,  ..., -0.8353, -0.7961, -0.7882],\n",
       "          [ 0.5373,  0.5216,  0.5059,  ..., -0.8431, -0.8039, -0.7882],\n",
       "          ...,\n",
       "          [ 0.5608,  0.5608,  0.5686,  ..., -0.8275, -0.8353, -0.8275],\n",
       "          [ 0.5608,  0.5686,  0.5765,  ..., -0.8275, -0.8275, -0.8196],\n",
       "          [ 0.5765,  0.5765,  0.5765,  ..., -0.8196, -0.8196, -0.8118]]]])"
      ]
     },
     "execution_count": 54,
     "metadata": {},
     "output_type": "execute_result"
    }
   ],
   "source": [
    "next(iter(dataloader))['pixel_values']"
   ]
  },
  {
   "cell_type": "code",
   "execution_count": 113,
   "id": "022ba9c9-6b7e-4ae2-95d9-10e79986f204",
   "metadata": {},
   "outputs": [
    {
     "data": {
      "text/plain": [
       "(tensor([  1056.3925,    748.4739,   3739.2834,   6787.4023,   6389.0664,\n",
       "           4000.2693,  19018.6270,   4385.4790,   1310.2233,  12394.5439,\n",
       "           7493.3701, 141591.5156,   1299.7678,  11087.5332,   1387.0173,\n",
       "           4886.9180], device='mps:0', grad_fn=<ExpBackward0>),\n",
       " tensor([  1000.0001,    600.0001,    550.0001,   6499.9985,  35000.0000,\n",
       "           3872.9995,  27999.9980,   4999.9980,    513.0000,  27499.9922,\n",
       "           3259.9995, 101727.0312,    500.0001,  14499.9932,    500.0001,\n",
       "           3300.0005]))"
      ]
     },
     "execution_count": 113,
     "metadata": {},
     "output_type": "execute_result"
    }
   ],
   "source": [
    "item = next(iter(dataloader))\n",
    "torch.exp(resnet(item['pixel_values'].to('mps'))), torch.exp(item['price'])"
   ]
  },
  {
   "cell_type": "code",
   "execution_count": 114,
   "id": "bc5c8f1e",
   "metadata": {},
   "outputs": [],
   "source": [
    "torch.save(resnet.state_dict(), 'models/resnet18_shoesСlothes_model_weights.pth')"
   ]
  },
  {
   "cell_type": "code",
   "execution_count": 116,
   "id": "c700eaa8",
   "metadata": {},
   "outputs": [
    {
     "name": "stderr",
     "output_type": "stream",
     "text": [
      "  2%|██▋                                                                                                               | 13/556 [00:02<01:36,  5.65it/s]\n"
     ]
    },
    {
     "data": {
      "text/html": [
       "<div>\n",
       "<style scoped>\n",
       "    .dataframe tbody tr th:only-of-type {\n",
       "        vertical-align: middle;\n",
       "    }\n",
       "\n",
       "    .dataframe tbody tr th {\n",
       "        vertical-align: top;\n",
       "    }\n",
       "\n",
       "    .dataframe thead th {\n",
       "        text-align: right;\n",
       "    }\n",
       "</style>\n",
       "<table border=\"1\" class=\"dataframe\">\n",
       "  <thead>\n",
       "    <tr style=\"text-align: right;\">\n",
       "      <th></th>\n",
       "      <th>Batch number</th>\n",
       "      <th>MSE</th>\n",
       "      <th>MAE</th>\n",
       "      <th>MAPE</th>\n",
       "    </tr>\n",
       "  </thead>\n",
       "  <tbody>\n",
       "    <tr>\n",
       "      <th>0</th>\n",
       "      <td>1</td>\n",
       "      <td>4.303330e+07</td>\n",
       "      <td>3565.124023</td>\n",
       "      <td>1.071447</td>\n",
       "    </tr>\n",
       "    <tr>\n",
       "      <th>1</th>\n",
       "      <td>2</td>\n",
       "      <td>1.469356e+11</td>\n",
       "      <td>105609.031250</td>\n",
       "      <td>1.252380</td>\n",
       "    </tr>\n",
       "    <tr>\n",
       "      <th>2</th>\n",
       "      <td>3</td>\n",
       "      <td>2.494833e+08</td>\n",
       "      <td>6022.226074</td>\n",
       "      <td>0.671070</td>\n",
       "    </tr>\n",
       "    <tr>\n",
       "      <th>3</th>\n",
       "      <td>4</td>\n",
       "      <td>7.976246e+07</td>\n",
       "      <td>3990.212891</td>\n",
       "      <td>0.361198</td>\n",
       "    </tr>\n",
       "    <tr>\n",
       "      <th>4</th>\n",
       "      <td>5</td>\n",
       "      <td>1.137767e+12</td>\n",
       "      <td>280259.187500</td>\n",
       "      <td>1.478979</td>\n",
       "    </tr>\n",
       "    <tr>\n",
       "      <th>5</th>\n",
       "      <td>6</td>\n",
       "      <td>7.439646e+07</td>\n",
       "      <td>4419.518555</td>\n",
       "      <td>0.520931</td>\n",
       "    </tr>\n",
       "    <tr>\n",
       "      <th>6</th>\n",
       "      <td>7</td>\n",
       "      <td>3.437515e+09</td>\n",
       "      <td>20792.128906</td>\n",
       "      <td>0.816908</td>\n",
       "    </tr>\n",
       "    <tr>\n",
       "      <th>7</th>\n",
       "      <td>8</td>\n",
       "      <td>3.480012e+07</td>\n",
       "      <td>2829.015381</td>\n",
       "      <td>0.558880</td>\n",
       "    </tr>\n",
       "    <tr>\n",
       "      <th>8</th>\n",
       "      <td>9</td>\n",
       "      <td>6.620944e+09</td>\n",
       "      <td>34280.742188</td>\n",
       "      <td>1.180114</td>\n",
       "    </tr>\n",
       "    <tr>\n",
       "      <th>9</th>\n",
       "      <td>10</td>\n",
       "      <td>5.289091e+08</td>\n",
       "      <td>6388.354492</td>\n",
       "      <td>0.307588</td>\n",
       "    </tr>\n",
       "    <tr>\n",
       "      <th>10</th>\n",
       "      <td>11</td>\n",
       "      <td>2.971953e+08</td>\n",
       "      <td>8257.313477</td>\n",
       "      <td>0.639317</td>\n",
       "    </tr>\n",
       "    <tr>\n",
       "      <th>11</th>\n",
       "      <td>12</td>\n",
       "      <td>1.569244e+08</td>\n",
       "      <td>7808.652344</td>\n",
       "      <td>1.930671</td>\n",
       "    </tr>\n",
       "    <tr>\n",
       "      <th>12</th>\n",
       "      <td>13</td>\n",
       "      <td>3.244211e+09</td>\n",
       "      <td>15750.290039</td>\n",
       "      <td>0.590857</td>\n",
       "    </tr>\n",
       "    <tr>\n",
       "      <th>13</th>\n",
       "      <td>14</td>\n",
       "      <td>1.343666e+07</td>\n",
       "      <td>2110.838867</td>\n",
       "      <td>0.896890</td>\n",
       "    </tr>\n",
       "  </tbody>\n",
       "</table>\n",
       "</div>"
      ],
      "text/plain": [
       "    Batch number           MSE            MAE      MAPE\n",
       "0              1  4.303330e+07    3565.124023  1.071447\n",
       "1              2  1.469356e+11  105609.031250  1.252380\n",
       "2              3  2.494833e+08    6022.226074  0.671070\n",
       "3              4  7.976246e+07    3990.212891  0.361198\n",
       "4              5  1.137767e+12  280259.187500  1.478979\n",
       "5              6  7.439646e+07    4419.518555  0.520931\n",
       "6              7  3.437515e+09   20792.128906  0.816908\n",
       "7              8  3.480012e+07    2829.015381  0.558880\n",
       "8              9  6.620944e+09   34280.742188  1.180114\n",
       "9             10  5.289091e+08    6388.354492  0.307588\n",
       "10            11  2.971953e+08    8257.313477  0.639317\n",
       "11            12  1.569244e+08    7808.652344  1.930671\n",
       "12            13  3.244211e+09   15750.290039  0.590857\n",
       "13            14  1.343666e+07    2110.838867  0.896890"
      ]
     },
     "execution_count": 116,
     "metadata": {},
     "output_type": "execute_result"
    }
   ],
   "source": [
    "from sklearn.metrics import (mean_absolute_percentage_error, mean_absolute_error, \n",
    "                             mean_squared_error, median_absolute_error)\n",
    "\n",
    "resnet.eval()\n",
    "table_metrics = pd.DataFrame({'Batch number': [], \n",
    "                              'MSE': [],\n",
    "                              'MAE': [],\n",
    "                              'MAPE': []})\n",
    "\n",
    "iteration_n = [1]\n",
    "preds = []\n",
    "mae = []\n",
    "mse = []\n",
    "mape = []\n",
    "for batch in tqdm(dataloader):\n",
    "    pixel_values = batch['pixel_values'].to('mps')\n",
    "    prices = batch['price'].to('cpu').detach().numpy()\n",
    "\n",
    "    preds = resnet(pixel_values).to('cpu').detach().numpy()\n",
    "    mae.append(mean_absolute_error(np.exp(prices), np.exp(preds)))\n",
    "    mse.append(mean_squared_error(np.exp(prices), np.exp(preds)))\n",
    "    mape.append(mean_absolute_percentage_error(np.exp(prices), np.exp(preds)))\n",
    "    if iteration_n[-1] + 1 == 15:\n",
    "        break\n",
    "    iteration_n.append(iteration_n[-1] + 1)\n",
    "        \n",
    "table_metrics['Batch number'] = iteration_n\n",
    "table_metrics['MSE'] = mse\n",
    "table_metrics['MAE'] = mae\n",
    "table_metrics['MAPE'] = mape\n",
    "table_metrics"
   ]
  },
  {
   "cell_type": "code",
   "execution_count": null,
   "id": "f78fe498",
   "metadata": {},
   "outputs": [],
   "source": []
  }
 ],
 "metadata": {
  "kernelspec": {
   "display_name": "kernel_3.11",
   "language": "python",
   "name": "kernel_3.11"
  },
  "language_info": {
   "codemirror_mode": {
    "name": "ipython",
    "version": 3
   },
   "file_extension": ".py",
   "mimetype": "text/x-python",
   "name": "python",
   "nbconvert_exporter": "python",
   "pygments_lexer": "ipython3",
   "version": "3.11.1"
  }
 },
 "nbformat": 4,
 "nbformat_minor": 5
}
