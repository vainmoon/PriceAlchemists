{
  "cells": [
    {
      "cell_type": "code",
      "execution_count": null,
      "metadata": {
        "colab": {
          "base_uri": "https://localhost:8080/"
        },
        "id": "no1v101y_eNk",
        "outputId": "fa9e00a1-746b-4731-f9a0-7cfe71d44e5b"
      },
      "outputs": [],
      "source": [
        "from google.colab import drive\n",
        "drive.mount('/content/drive')"
      ]
    },
    {
      "cell_type": "code",
      "execution_count": null,
      "metadata": {
        "colab": {
          "base_uri": "https://localhost:8080/"
        },
        "id": "IIrPL0jF5Mer",
        "outputId": "28e98318-3b4f-49c4-aab2-750c27cb757b"
      },
      "outputs": [],
      "source": [
        "\n",
        "pip install faiss-cpu\n"
      ]
    },
    {
      "cell_type": "code",
      "execution_count": null,
      "metadata": {
        "id": "BWwlj2UM1dSr"
      },
      "outputs": [],
      "source": [
        "import pandas as pd\n",
        "import torch\n",
        "import torchvision.models as models\n",
        "import torch.nn as nn\n",
        "import torchvision.transforms as transforms\n",
        "from PIL import Image\n",
        "import requests\n",
        "from io import BytesIO\n",
        "import os\n",
        "import numpy as np\n",
        "\n",
        "import faiss\n",
        "\n",
        "import matplotlib.pyplot as plt\n",
        "\n",
        "from sklearn.model_selection import train_test_split\n",
        "from sklearn.metrics import mean_absolute_error, mean_squared_error, r2_score\n",
        "\n",
        "\n",
        "from tqdm import tqdm\n",
        "tqdm.pandas()\n"
      ]
    },
    {
      "cell_type": "code",
      "execution_count": null,
      "metadata": {
        "id": "4rNiA4OS6q5l"
      },
      "outputs": [],
      "source": [
        "EMBEDDING_SHAPE = 512\n",
        "device = \"cuda\" if torch.cuda.is_available() else \"cpu\""
      ]
    },
    {
      "cell_type": "code",
      "execution_count": null,
      "metadata": {
        "id": "7Zkhwzj9SCuK"
      },
      "outputs": [],
      "source": [
        "df = pd.read_csv('/content/drive/MyDrive/AAA/PriceAlchemists/amazon_product_description.csv')"
      ]
    },
    {
      "cell_type": "code",
      "execution_count": null,
      "metadata": {
        "colab": {
          "base_uri": "https://localhost:8080/",
          "height": 424
        },
        "id": "43UFGTg4bikK",
        "outputId": "7562bb4f-b90a-43f5-e7e2-f0edb01b58f7"
      },
      "outputs": [],
      "source": [
        "df"
      ]
    },
    {
      "cell_type": "code",
      "execution_count": null,
      "metadata": {
        "id": "KLyeYTeibyud"
      },
      "outputs": [],
      "source": [
        "def parse_price(price_str):\n",
        "    if not isinstance(price_str, str):\n",
        "        return np.nan\n",
        "    cleaned = price_str.replace('$', '').replace(' ', '')\n",
        "    if '-' in cleaned:\n",
        "        try:\n",
        "            low, high = cleaned.split('-')\n",
        "            return (float(low) + float(high)) / 2\n",
        "        except:\n",
        "            return np.nan\n",
        "    else:\n",
        "        try:\n",
        "            return float(cleaned)\n",
        "        except:\n",
        "            return np.nan"
      ]
    },
    {
      "cell_type": "code",
      "execution_count": null,
      "metadata": {
        "id": "6QLolhtzb8eT"
      },
      "outputs": [],
      "source": [
        "df['price'] = df['price'].apply(parse_price)"
      ]
    },
    {
      "cell_type": "code",
      "execution_count": null,
      "metadata": {
        "colab": {
          "base_uri": "https://localhost:8080/"
        },
        "id": "ujXHaREg4eaV",
        "outputId": "759ae760-e791-4b96-e5e6-b579b927515d"
      },
      "outputs": [],
      "source": [
        "model = models.resnet50(pretrained=True)\n",
        "model.eval()\n",
        "\n",
        "model = torch.nn.Sequential(*list(model.children())[:-2])\n",
        "\n",
        "model = nn.Sequential(\n",
        "    model,\n",
        "    nn.AdaptiveAvgPool2d((1, 1)),\n",
        "    nn.Flatten(),\n",
        "    nn.Linear(2048, EMBEDDING_SHAPE)\n",
        ")\n",
        "\n",
        "model = model.to(device)"
      ]
    },
    {
      "cell_type": "code",
      "execution_count": null,
      "metadata": {
        "id": "DD9tYcFf317O"
      },
      "outputs": [],
      "source": [
        "transform = transforms.Compose([\n",
        "    transforms.Resize(256),\n",
        "    transforms.CenterCrop(224),\n",
        "    transforms.ToTensor(),\n",
        "    transforms.Normalize(\n",
        "        mean=[0.485, 0.456, 0.406],\n",
        "        std=[0.229, 0.224, 0.225]\n",
        "    ),\n",
        "])"
      ]
    },
    {
      "cell_type": "code",
      "execution_count": null,
      "metadata": {
        "id": "bhD1LL1_5_Zd"
      },
      "outputs": [],
      "source": [
        "def get_img_embedding(img_idx, model, transform):\n",
        "  img_path = f'/content/drive/MyDrive/AAA/PriceAlchemists/bprateek.amazon_product_description/{img_idx}.jpg'\n",
        "  img = Image.open(img_path).convert('RGB')\n",
        "  img = transform(img).unsqueeze(0)\n",
        "  img = img.to(device)\n",
        "  with torch.no_grad():\n",
        "      embedding = model(img).squeeze().cpu().numpy()\n",
        "  return img"
      ]
    },
    {
      "cell_type": "code",
      "execution_count": null,
      "metadata": {
        "colab": {
          "base_uri": "https://localhost:8080/",
          "height": 347
        },
        "id": "fu49LOsu6zTJ",
        "outputId": "8aa48d5f-65ad-49be-a600-4691a6b0461b"
      },
      "outputs": [],
      "source": [
        "df['Embedding'] = df['img_idx'].progress_apply(lambda img_idx: get_img_embedding(img_idx, model, transform))"
      ]
    },
    {
      "cell_type": "markdown",
      "metadata": {
        "id": "IeV_INfRZLSW"
      },
      "source": [
        "# Базовая регрессия стоимости с проверкой на валидации"
      ]
    },
    {
      "cell_type": "code",
      "execution_count": null,
      "metadata": {
        "id": "kv8NEv5QYp3w"
      },
      "outputs": [],
      "source": [
        "X_train, X_test, y_train, y_test = train_test_split(df['Embedding'].values, df['price'].values, test_size=0.2, random_state=42)"
      ]
    },
    {
      "cell_type": "code",
      "execution_count": null,
      "metadata": {
        "id": "SedIK1z8ZeKj"
      },
      "outputs": [],
      "source": [
        "embedding_train = np.vstack(X_train)\n",
        "embedding_test = np.vstack(X_test)"
      ]
    },
    {
      "cell_type": "code",
      "execution_count": null,
      "metadata": {
        "id": "CbyUYHIJZkPb"
      },
      "outputs": [],
      "source": [
        "index = faiss.IndexFlatL2(EMBEDDING_SHAPE)\n",
        "index.add(embedding_train)"
      ]
    },
    {
      "cell_type": "code",
      "execution_count": null,
      "metadata": {
        "colab": {
          "base_uri": "https://localhost:8080/"
        },
        "id": "mVD2kG3GarjB",
        "outputId": "86119664-fece-47ca-e1a5-d0cdf3aa3d65"
      },
      "outputs": [],
      "source": [
        "distances, indices = index.search(embedding_test, k=10)\n",
        "y_pred = []\n",
        "for neighbor_idxs in indices:\n",
        "    neighbor_prices = y_train[neighbor_idxs]\n",
        "    pred_price = neighbor_prices.mean()\n",
        "    y_pred.append(pred_price)\n",
        "y_pred = np.array(y_pred)\n",
        "\n",
        "mae = mean_absolute_error(y_test, y_pred)\n",
        "mse = mean_squared_error(y_test, y_pred)\n",
        "rmse = np.sqrt(mse)\n",
        "r2 = r2_score(y_test, y_pred)\n",
        "mdape = np.median(np.abs((y_test - y_pred) / y_test)) * 100\n",
        "mape = np.mean(np.abs((y_test - y_pred) / y_test)) * 100\n",
        "\n",
        "print(f\"MAE:  {mae:.2f}\")\n",
        "print(f\"RMSE: {rmse:.2f}\")\n",
        "print(f\"R²:   {r2:.4f}\")\n",
        "print(f\"MdAPE: {mdape:.2f}%\")\n",
        "print(f\"MAPE: {mape:.2f}%\")"
      ]
    },
    {
      "cell_type": "markdown",
      "metadata": {
        "id": "GNjM8t-tYW3W"
      },
      "source": [
        "# Просмотр изображений на сходство"
      ]
    },
    {
      "cell_type": "code",
      "execution_count": null,
      "metadata": {
        "id": "hja_2fyI4hRV"
      },
      "outputs": [],
      "source": [
        "embedding_data = np.vstack(df['Embedding'].values)\n",
        "index = faiss.IndexFlatL2(EMBEDDING_SHAPE)\n",
        "index.add(embedding_data)"
      ]
    },
    {
      "cell_type": "code",
      "execution_count": null,
      "metadata": {
        "id": "qTFtACTZWuAy"
      },
      "outputs": [],
      "source": [
        "def show_nearest_neighbors(query_idx, df, index, k=5):\n",
        "    \"\"\"\n",
        "    Визуализирует изображение с индексом `query_idx` и k ближайших к нему изображений.\n",
        "    Показывает расстояния до каждого из соседей.\n",
        "\n",
        "    Parameters:\n",
        "        query_idx (int): индекс в датафрейме df.\n",
        "        df (pd.DataFrame): датафрейм с колонками 'img_idx' и 'Embedding'.\n",
        "        index (faiss.Index): FAISS-индекс.\n",
        "        k (int): число ближайших соседей (включая сам запрос).\n",
        "    \"\"\"\n",
        "    # Получаем вектор запроса\n",
        "    query_embedding = df.iloc[query_idx]['Embedding'].reshape(1, -1)\n",
        "\n",
        "    # Находим k ближайших\n",
        "    distances, indices = index.search(query_embedding, k)\n",
        "\n",
        "    # Визуализация\n",
        "    plt.figure(figsize=(3 * k, 4))\n",
        "    for i, (idx, dist) in enumerate(zip(indices[0], distances[0])):\n",
        "        img_id = df.iloc[idx]['img_idx']\n",
        "        img_path = f'/content/drive/MyDrive/AAA/PriceAlchemists/bprateek.amazon_product_description/{img_id}.jpg'\n",
        "        try:\n",
        "            img = Image.open(img_path).convert(\"RGB\")\n",
        "        except:\n",
        "            print(f\"Could not open image: {img_path}\")\n",
        "            continue\n",
        "        plt.subplot(1, k, i + 1)\n",
        "        plt.imshow(img)\n",
        "        plt.axis('off')\n",
        "        if i == 0:\n",
        "            plt.title(f'Запрос\\nidx={idx}')\n",
        "        else:\n",
        "            plt.title(f'#{i}\\nD={dist:.2f}')\n",
        "    plt.tight_layout()\n",
        "    plt.show()\n"
      ]
    },
    {
      "cell_type": "code",
      "execution_count": null,
      "metadata": {
        "colab": {
          "base_uri": "https://localhost:8080/",
          "height": 302
        },
        "id": "Ypc68mewWxiz",
        "outputId": "8db1da35-4bb6-4c96-f460-ea6d56e505c2"
      },
      "outputs": [],
      "source": [
        "show_nearest_neighbors(34, df, index, k=6)"
      ]
    },
    {
      "cell_type": "code",
      "execution_count": null,
      "metadata": {
        "id": "GzYkaK9gWzp2"
      },
      "outputs": [],
      "source": []
    }
  ],
  "metadata": {
    "accelerator": "GPU",
    "colab": {
      "gpuType": "T4",
      "provenance": []
    },
    "kernelspec": {
      "display_name": "Python 3",
      "name": "python3"
    },
    "language_info": {
      "name": "python"
    }
  },
  "nbformat": 4,
  "nbformat_minor": 0
}
